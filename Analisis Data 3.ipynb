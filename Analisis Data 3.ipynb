{
  "cells": [
    {
      "cell_type": "markdown",
      "metadata": {
        "id": "view-in-github",
        "colab_type": "text"
      },
      "source": [
        "<a href=\"https://colab.research.google.com/github/AryaPratamaPutra-10/AryaPratamaPutra-10/blob/main/Analisis%20Data%203.ipynb\" target=\"_parent\"><img src=\"https://colab.research.google.com/assets/colab-badge.svg\" alt=\"Open In Colab\"/></a>"
      ]
    },
    {
      "cell_type": "markdown",
      "source": [
        "# Analisis Harga Ikan Lele\n"
      ],
      "metadata": {
        "id": "vlSK0PGlkzKJ"
      }
    },
    {
      "cell_type": "markdown",
      "source": [
        "1. Import Library yang dipakai"
      ],
      "metadata": {
        "id": "0Ld_-6a_v2r-"
      }
    },
    {
      "cell_type": "code",
      "execution_count": 116,
      "metadata": {
        "id": "zwFnJsE6vjf8",
        "collapsed": true
      },
      "outputs": [],
      "source": [
        "# Install pustaka yang diperlukan (jika belum terinstal)\n",
        "import pandas as pd\n",
        "import numpy as np\n",
        "import matplotlib.pyplot as plt\n",
        "import seaborn as sns\n",
        "\n",
        "from sklearn.model_selection import train_test_split\n",
        "from sklearn.linear_model import LinearRegression, Ridge, Lasso, ElasticNet\n",
        "from sklearn.metrics import mean_squared_error, r2_score\n",
        "\n",
        "from statsmodels.tsa.arima.model import ARIMA\n",
        "\n",
        "from tensorflow.keras.models import Sequential\n",
        "from tensorflow.keras.layers import LSTM, Dense\n",
        "from sklearn.preprocessing import MinMaxScaler"
      ]
    },
    {
      "cell_type": "markdown",
      "source": [
        "2. Import File Data Set"
      ],
      "metadata": {
        "id": "027Qf5flv7cz"
      }
    },
    {
      "cell_type": "code",
      "source": [
        "from google.colab import files\n",
        "upload = files.upload()"
      ],
      "metadata": {
        "id": "pVo2XC7GmAV3",
        "outputId": "94508f79-44de-44ce-8386-ce08c21c6014",
        "colab": {
          "base_uri": "https://localhost:8080/",
          "height": 73
        }
      },
      "execution_count": 75,
      "outputs": [
        {
          "output_type": "display_data",
          "data": {
            "text/plain": [
              "<IPython.core.display.HTML object>"
            ],
            "text/html": [
              "\n",
              "     <input type=\"file\" id=\"files-c80c6d7d-232d-4a54-8ad7-a825c44ea9b7\" name=\"files[]\" multiple disabled\n",
              "        style=\"border:none\" />\n",
              "     <output id=\"result-c80c6d7d-232d-4a54-8ad7-a825c44ea9b7\">\n",
              "      Upload widget is only available when the cell has been executed in the\n",
              "      current browser session. Please rerun this cell to enable.\n",
              "      </output>\n",
              "      <script>// Copyright 2017 Google LLC\n",
              "//\n",
              "// Licensed under the Apache License, Version 2.0 (the \"License\");\n",
              "// you may not use this file except in compliance with the License.\n",
              "// You may obtain a copy of the License at\n",
              "//\n",
              "//      http://www.apache.org/licenses/LICENSE-2.0\n",
              "//\n",
              "// Unless required by applicable law or agreed to in writing, software\n",
              "// distributed under the License is distributed on an \"AS IS\" BASIS,\n",
              "// WITHOUT WARRANTIES OR CONDITIONS OF ANY KIND, either express or implied.\n",
              "// See the License for the specific language governing permissions and\n",
              "// limitations under the License.\n",
              "\n",
              "/**\n",
              " * @fileoverview Helpers for google.colab Python module.\n",
              " */\n",
              "(function(scope) {\n",
              "function span(text, styleAttributes = {}) {\n",
              "  const element = document.createElement('span');\n",
              "  element.textContent = text;\n",
              "  for (const key of Object.keys(styleAttributes)) {\n",
              "    element.style[key] = styleAttributes[key];\n",
              "  }\n",
              "  return element;\n",
              "}\n",
              "\n",
              "// Max number of bytes which will be uploaded at a time.\n",
              "const MAX_PAYLOAD_SIZE = 100 * 1024;\n",
              "\n",
              "function _uploadFiles(inputId, outputId) {\n",
              "  const steps = uploadFilesStep(inputId, outputId);\n",
              "  const outputElement = document.getElementById(outputId);\n",
              "  // Cache steps on the outputElement to make it available for the next call\n",
              "  // to uploadFilesContinue from Python.\n",
              "  outputElement.steps = steps;\n",
              "\n",
              "  return _uploadFilesContinue(outputId);\n",
              "}\n",
              "\n",
              "// This is roughly an async generator (not supported in the browser yet),\n",
              "// where there are multiple asynchronous steps and the Python side is going\n",
              "// to poll for completion of each step.\n",
              "// This uses a Promise to block the python side on completion of each step,\n",
              "// then passes the result of the previous step as the input to the next step.\n",
              "function _uploadFilesContinue(outputId) {\n",
              "  const outputElement = document.getElementById(outputId);\n",
              "  const steps = outputElement.steps;\n",
              "\n",
              "  const next = steps.next(outputElement.lastPromiseValue);\n",
              "  return Promise.resolve(next.value.promise).then((value) => {\n",
              "    // Cache the last promise value to make it available to the next\n",
              "    // step of the generator.\n",
              "    outputElement.lastPromiseValue = value;\n",
              "    return next.value.response;\n",
              "  });\n",
              "}\n",
              "\n",
              "/**\n",
              " * Generator function which is called between each async step of the upload\n",
              " * process.\n",
              " * @param {string} inputId Element ID of the input file picker element.\n",
              " * @param {string} outputId Element ID of the output display.\n",
              " * @return {!Iterable<!Object>} Iterable of next steps.\n",
              " */\n",
              "function* uploadFilesStep(inputId, outputId) {\n",
              "  const inputElement = document.getElementById(inputId);\n",
              "  inputElement.disabled = false;\n",
              "\n",
              "  const outputElement = document.getElementById(outputId);\n",
              "  outputElement.innerHTML = '';\n",
              "\n",
              "  const pickedPromise = new Promise((resolve) => {\n",
              "    inputElement.addEventListener('change', (e) => {\n",
              "      resolve(e.target.files);\n",
              "    });\n",
              "  });\n",
              "\n",
              "  const cancel = document.createElement('button');\n",
              "  inputElement.parentElement.appendChild(cancel);\n",
              "  cancel.textContent = 'Cancel upload';\n",
              "  const cancelPromise = new Promise((resolve) => {\n",
              "    cancel.onclick = () => {\n",
              "      resolve(null);\n",
              "    };\n",
              "  });\n",
              "\n",
              "  // Wait for the user to pick the files.\n",
              "  const files = yield {\n",
              "    promise: Promise.race([pickedPromise, cancelPromise]),\n",
              "    response: {\n",
              "      action: 'starting',\n",
              "    }\n",
              "  };\n",
              "\n",
              "  cancel.remove();\n",
              "\n",
              "  // Disable the input element since further picks are not allowed.\n",
              "  inputElement.disabled = true;\n",
              "\n",
              "  if (!files) {\n",
              "    return {\n",
              "      response: {\n",
              "        action: 'complete',\n",
              "      }\n",
              "    };\n",
              "  }\n",
              "\n",
              "  for (const file of files) {\n",
              "    const li = document.createElement('li');\n",
              "    li.append(span(file.name, {fontWeight: 'bold'}));\n",
              "    li.append(span(\n",
              "        `(${file.type || 'n/a'}) - ${file.size} bytes, ` +\n",
              "        `last modified: ${\n",
              "            file.lastModifiedDate ? file.lastModifiedDate.toLocaleDateString() :\n",
              "                                    'n/a'} - `));\n",
              "    const percent = span('0% done');\n",
              "    li.appendChild(percent);\n",
              "\n",
              "    outputElement.appendChild(li);\n",
              "\n",
              "    const fileDataPromise = new Promise((resolve) => {\n",
              "      const reader = new FileReader();\n",
              "      reader.onload = (e) => {\n",
              "        resolve(e.target.result);\n",
              "      };\n",
              "      reader.readAsArrayBuffer(file);\n",
              "    });\n",
              "    // Wait for the data to be ready.\n",
              "    let fileData = yield {\n",
              "      promise: fileDataPromise,\n",
              "      response: {\n",
              "        action: 'continue',\n",
              "      }\n",
              "    };\n",
              "\n",
              "    // Use a chunked sending to avoid message size limits. See b/62115660.\n",
              "    let position = 0;\n",
              "    do {\n",
              "      const length = Math.min(fileData.byteLength - position, MAX_PAYLOAD_SIZE);\n",
              "      const chunk = new Uint8Array(fileData, position, length);\n",
              "      position += length;\n",
              "\n",
              "      const base64 = btoa(String.fromCharCode.apply(null, chunk));\n",
              "      yield {\n",
              "        response: {\n",
              "          action: 'append',\n",
              "          file: file.name,\n",
              "          data: base64,\n",
              "        },\n",
              "      };\n",
              "\n",
              "      let percentDone = fileData.byteLength === 0 ?\n",
              "          100 :\n",
              "          Math.round((position / fileData.byteLength) * 100);\n",
              "      percent.textContent = `${percentDone}% done`;\n",
              "\n",
              "    } while (position < fileData.byteLength);\n",
              "  }\n",
              "\n",
              "  // All done.\n",
              "  yield {\n",
              "    response: {\n",
              "      action: 'complete',\n",
              "    }\n",
              "  };\n",
              "}\n",
              "\n",
              "scope.google = scope.google || {};\n",
              "scope.google.colab = scope.google.colab || {};\n",
              "scope.google.colab._files = {\n",
              "  _uploadFiles,\n",
              "  _uploadFilesContinue,\n",
              "};\n",
              "})(self);\n",
              "</script> "
            ]
          },
          "metadata": {}
        },
        {
          "output_type": "stream",
          "name": "stdout",
          "text": [
            "Saving Harga_Lele.csv to Harga_Lele.csv\n"
          ]
        }
      ]
    },
    {
      "cell_type": "markdown",
      "source": [
        "Tampilin Data"
      ],
      "metadata": {
        "id": "w0IKY-PfuBSq"
      }
    },
    {
      "cell_type": "code",
      "source": [
        "df = pd.read_csv('/content/Harga_Lele.csv', sep=';')\n",
        "df.head()"
      ],
      "metadata": {
        "collapsed": true,
        "colab": {
          "base_uri": "https://localhost:8080/",
          "height": 206
        },
        "id": "LBH8aCb4ddpd",
        "outputId": "8ae24733-030f-41ec-f442-292b57ba8d71"
      },
      "execution_count": 101,
      "outputs": [
        {
          "output_type": "execute_result",
          "data": {
            "text/plain": [
              "  Provinsi   Kabupaten/Kota  Tahun  Volume Produksi  Nilai Produksi\n",
              "0     ACEH       ACEH BARAT   2019           247150    3.707250e+09\n",
              "1     ACEH  ACEH BARAT DAYA   2019            50900    1.527000e+09\n",
              "2     ACEH       ACEH BESAR   2019          1250560    1.970712e+10\n",
              "3     ACEH        ACEH JAYA   2019           900000    1.800000e+10\n",
              "4     ACEH     ACEH SELATAN   2019            39367    1.181010e+09"
            ],
            "text/html": [
              "\n",
              "  <div id=\"df-07c2c4c5-9bbc-459e-a3a5-99ccc3187ef8\" class=\"colab-df-container\">\n",
              "    <div>\n",
              "<style scoped>\n",
              "    .dataframe tbody tr th:only-of-type {\n",
              "        vertical-align: middle;\n",
              "    }\n",
              "\n",
              "    .dataframe tbody tr th {\n",
              "        vertical-align: top;\n",
              "    }\n",
              "\n",
              "    .dataframe thead th {\n",
              "        text-align: right;\n",
              "    }\n",
              "</style>\n",
              "<table border=\"1\" class=\"dataframe\">\n",
              "  <thead>\n",
              "    <tr style=\"text-align: right;\">\n",
              "      <th></th>\n",
              "      <th>Provinsi</th>\n",
              "      <th>Kabupaten/Kota</th>\n",
              "      <th>Tahun</th>\n",
              "      <th>Volume Produksi</th>\n",
              "      <th>Nilai Produksi</th>\n",
              "    </tr>\n",
              "  </thead>\n",
              "  <tbody>\n",
              "    <tr>\n",
              "      <th>0</th>\n",
              "      <td>ACEH</td>\n",
              "      <td>ACEH BARAT</td>\n",
              "      <td>2019</td>\n",
              "      <td>247150</td>\n",
              "      <td>3.707250e+09</td>\n",
              "    </tr>\n",
              "    <tr>\n",
              "      <th>1</th>\n",
              "      <td>ACEH</td>\n",
              "      <td>ACEH BARAT DAYA</td>\n",
              "      <td>2019</td>\n",
              "      <td>50900</td>\n",
              "      <td>1.527000e+09</td>\n",
              "    </tr>\n",
              "    <tr>\n",
              "      <th>2</th>\n",
              "      <td>ACEH</td>\n",
              "      <td>ACEH BESAR</td>\n",
              "      <td>2019</td>\n",
              "      <td>1250560</td>\n",
              "      <td>1.970712e+10</td>\n",
              "    </tr>\n",
              "    <tr>\n",
              "      <th>3</th>\n",
              "      <td>ACEH</td>\n",
              "      <td>ACEH JAYA</td>\n",
              "      <td>2019</td>\n",
              "      <td>900000</td>\n",
              "      <td>1.800000e+10</td>\n",
              "    </tr>\n",
              "    <tr>\n",
              "      <th>4</th>\n",
              "      <td>ACEH</td>\n",
              "      <td>ACEH SELATAN</td>\n",
              "      <td>2019</td>\n",
              "      <td>39367</td>\n",
              "      <td>1.181010e+09</td>\n",
              "    </tr>\n",
              "  </tbody>\n",
              "</table>\n",
              "</div>\n",
              "    <div class=\"colab-df-buttons\">\n",
              "\n",
              "  <div class=\"colab-df-container\">\n",
              "    <button class=\"colab-df-convert\" onclick=\"convertToInteractive('df-07c2c4c5-9bbc-459e-a3a5-99ccc3187ef8')\"\n",
              "            title=\"Convert this dataframe to an interactive table.\"\n",
              "            style=\"display:none;\">\n",
              "\n",
              "  <svg xmlns=\"http://www.w3.org/2000/svg\" height=\"24px\" viewBox=\"0 -960 960 960\">\n",
              "    <path d=\"M120-120v-720h720v720H120Zm60-500h600v-160H180v160Zm220 220h160v-160H400v160Zm0 220h160v-160H400v160ZM180-400h160v-160H180v160Zm440 0h160v-160H620v160ZM180-180h160v-160H180v160Zm440 0h160v-160H620v160Z\"/>\n",
              "  </svg>\n",
              "    </button>\n",
              "\n",
              "  <style>\n",
              "    .colab-df-container {\n",
              "      display:flex;\n",
              "      gap: 12px;\n",
              "    }\n",
              "\n",
              "    .colab-df-convert {\n",
              "      background-color: #E8F0FE;\n",
              "      border: none;\n",
              "      border-radius: 50%;\n",
              "      cursor: pointer;\n",
              "      display: none;\n",
              "      fill: #1967D2;\n",
              "      height: 32px;\n",
              "      padding: 0 0 0 0;\n",
              "      width: 32px;\n",
              "    }\n",
              "\n",
              "    .colab-df-convert:hover {\n",
              "      background-color: #E2EBFA;\n",
              "      box-shadow: 0px 1px 2px rgba(60, 64, 67, 0.3), 0px 1px 3px 1px rgba(60, 64, 67, 0.15);\n",
              "      fill: #174EA6;\n",
              "    }\n",
              "\n",
              "    .colab-df-buttons div {\n",
              "      margin-bottom: 4px;\n",
              "    }\n",
              "\n",
              "    [theme=dark] .colab-df-convert {\n",
              "      background-color: #3B4455;\n",
              "      fill: #D2E3FC;\n",
              "    }\n",
              "\n",
              "    [theme=dark] .colab-df-convert:hover {\n",
              "      background-color: #434B5C;\n",
              "      box-shadow: 0px 1px 3px 1px rgba(0, 0, 0, 0.15);\n",
              "      filter: drop-shadow(0px 1px 2px rgba(0, 0, 0, 0.3));\n",
              "      fill: #FFFFFF;\n",
              "    }\n",
              "  </style>\n",
              "\n",
              "    <script>\n",
              "      const buttonEl =\n",
              "        document.querySelector('#df-07c2c4c5-9bbc-459e-a3a5-99ccc3187ef8 button.colab-df-convert');\n",
              "      buttonEl.style.display =\n",
              "        google.colab.kernel.accessAllowed ? 'block' : 'none';\n",
              "\n",
              "      async function convertToInteractive(key) {\n",
              "        const element = document.querySelector('#df-07c2c4c5-9bbc-459e-a3a5-99ccc3187ef8');\n",
              "        const dataTable =\n",
              "          await google.colab.kernel.invokeFunction('convertToInteractive',\n",
              "                                                    [key], {});\n",
              "        if (!dataTable) return;\n",
              "\n",
              "        const docLinkHtml = 'Like what you see? Visit the ' +\n",
              "          '<a target=\"_blank\" href=https://colab.research.google.com/notebooks/data_table.ipynb>data table notebook</a>'\n",
              "          + ' to learn more about interactive tables.';\n",
              "        element.innerHTML = '';\n",
              "        dataTable['output_type'] = 'display_data';\n",
              "        await google.colab.output.renderOutput(dataTable, element);\n",
              "        const docLink = document.createElement('div');\n",
              "        docLink.innerHTML = docLinkHtml;\n",
              "        element.appendChild(docLink);\n",
              "      }\n",
              "    </script>\n",
              "  </div>\n",
              "\n",
              "\n",
              "<div id=\"df-a33426b1-540a-4148-a740-d6bb644e05c8\">\n",
              "  <button class=\"colab-df-quickchart\" onclick=\"quickchart('df-a33426b1-540a-4148-a740-d6bb644e05c8')\"\n",
              "            title=\"Suggest charts\"\n",
              "            style=\"display:none;\">\n",
              "\n",
              "<svg xmlns=\"http://www.w3.org/2000/svg\" height=\"24px\"viewBox=\"0 0 24 24\"\n",
              "     width=\"24px\">\n",
              "    <g>\n",
              "        <path d=\"M19 3H5c-1.1 0-2 .9-2 2v14c0 1.1.9 2 2 2h14c1.1 0 2-.9 2-2V5c0-1.1-.9-2-2-2zM9 17H7v-7h2v7zm4 0h-2V7h2v10zm4 0h-2v-4h2v4z\"/>\n",
              "    </g>\n",
              "</svg>\n",
              "  </button>\n",
              "\n",
              "<style>\n",
              "  .colab-df-quickchart {\n",
              "      --bg-color: #E8F0FE;\n",
              "      --fill-color: #1967D2;\n",
              "      --hover-bg-color: #E2EBFA;\n",
              "      --hover-fill-color: #174EA6;\n",
              "      --disabled-fill-color: #AAA;\n",
              "      --disabled-bg-color: #DDD;\n",
              "  }\n",
              "\n",
              "  [theme=dark] .colab-df-quickchart {\n",
              "      --bg-color: #3B4455;\n",
              "      --fill-color: #D2E3FC;\n",
              "      --hover-bg-color: #434B5C;\n",
              "      --hover-fill-color: #FFFFFF;\n",
              "      --disabled-bg-color: #3B4455;\n",
              "      --disabled-fill-color: #666;\n",
              "  }\n",
              "\n",
              "  .colab-df-quickchart {\n",
              "    background-color: var(--bg-color);\n",
              "    border: none;\n",
              "    border-radius: 50%;\n",
              "    cursor: pointer;\n",
              "    display: none;\n",
              "    fill: var(--fill-color);\n",
              "    height: 32px;\n",
              "    padding: 0;\n",
              "    width: 32px;\n",
              "  }\n",
              "\n",
              "  .colab-df-quickchart:hover {\n",
              "    background-color: var(--hover-bg-color);\n",
              "    box-shadow: 0 1px 2px rgba(60, 64, 67, 0.3), 0 1px 3px 1px rgba(60, 64, 67, 0.15);\n",
              "    fill: var(--button-hover-fill-color);\n",
              "  }\n",
              "\n",
              "  .colab-df-quickchart-complete:disabled,\n",
              "  .colab-df-quickchart-complete:disabled:hover {\n",
              "    background-color: var(--disabled-bg-color);\n",
              "    fill: var(--disabled-fill-color);\n",
              "    box-shadow: none;\n",
              "  }\n",
              "\n",
              "  .colab-df-spinner {\n",
              "    border: 2px solid var(--fill-color);\n",
              "    border-color: transparent;\n",
              "    border-bottom-color: var(--fill-color);\n",
              "    animation:\n",
              "      spin 1s steps(1) infinite;\n",
              "  }\n",
              "\n",
              "  @keyframes spin {\n",
              "    0% {\n",
              "      border-color: transparent;\n",
              "      border-bottom-color: var(--fill-color);\n",
              "      border-left-color: var(--fill-color);\n",
              "    }\n",
              "    20% {\n",
              "      border-color: transparent;\n",
              "      border-left-color: var(--fill-color);\n",
              "      border-top-color: var(--fill-color);\n",
              "    }\n",
              "    30% {\n",
              "      border-color: transparent;\n",
              "      border-left-color: var(--fill-color);\n",
              "      border-top-color: var(--fill-color);\n",
              "      border-right-color: var(--fill-color);\n",
              "    }\n",
              "    40% {\n",
              "      border-color: transparent;\n",
              "      border-right-color: var(--fill-color);\n",
              "      border-top-color: var(--fill-color);\n",
              "    }\n",
              "    60% {\n",
              "      border-color: transparent;\n",
              "      border-right-color: var(--fill-color);\n",
              "    }\n",
              "    80% {\n",
              "      border-color: transparent;\n",
              "      border-right-color: var(--fill-color);\n",
              "      border-bottom-color: var(--fill-color);\n",
              "    }\n",
              "    90% {\n",
              "      border-color: transparent;\n",
              "      border-bottom-color: var(--fill-color);\n",
              "    }\n",
              "  }\n",
              "</style>\n",
              "\n",
              "  <script>\n",
              "    async function quickchart(key) {\n",
              "      const quickchartButtonEl =\n",
              "        document.querySelector('#' + key + ' button');\n",
              "      quickchartButtonEl.disabled = true;  // To prevent multiple clicks.\n",
              "      quickchartButtonEl.classList.add('colab-df-spinner');\n",
              "      try {\n",
              "        const charts = await google.colab.kernel.invokeFunction(\n",
              "            'suggestCharts', [key], {});\n",
              "      } catch (error) {\n",
              "        console.error('Error during call to suggestCharts:', error);\n",
              "      }\n",
              "      quickchartButtonEl.classList.remove('colab-df-spinner');\n",
              "      quickchartButtonEl.classList.add('colab-df-quickchart-complete');\n",
              "    }\n",
              "    (() => {\n",
              "      let quickchartButtonEl =\n",
              "        document.querySelector('#df-a33426b1-540a-4148-a740-d6bb644e05c8 button');\n",
              "      quickchartButtonEl.style.display =\n",
              "        google.colab.kernel.accessAllowed ? 'block' : 'none';\n",
              "    })();\n",
              "  </script>\n",
              "</div>\n",
              "\n",
              "    </div>\n",
              "  </div>\n"
            ],
            "application/vnd.google.colaboratory.intrinsic+json": {
              "type": "dataframe",
              "variable_name": "df",
              "summary": "{\n  \"name\": \"df\",\n  \"rows\": 2222,\n  \"fields\": [\n    {\n      \"column\": \"Provinsi\",\n      \"properties\": {\n        \"dtype\": \"category\",\n        \"num_unique_values\": 34,\n        \"samples\": [\n          \"KALIMANTAN UTARA\",\n          \"MALUKU\",\n          \"SULAWESI SELATAN\"\n        ],\n        \"semantic_type\": \"\",\n        \"description\": \"\"\n      }\n    },\n    {\n      \"column\": \"Kabupaten/Kota\",\n      \"properties\": {\n        \"dtype\": \"category\",\n        \"num_unique_values\": 463,\n        \"samples\": [\n          \"KOTA TARAKAN\",\n          \"KOTA CILEGON\",\n          \"BENGKULU TENGAH\"\n        ],\n        \"semantic_type\": \"\",\n        \"description\": \"\"\n      }\n    },\n    {\n      \"column\": \"Tahun\",\n      \"properties\": {\n        \"dtype\": \"number\",\n        \"std\": 1,\n        \"min\": 2019,\n        \"max\": 2023,\n        \"num_unique_values\": 5,\n        \"samples\": [\n          2020,\n          2023,\n          2021\n        ],\n        \"semantic_type\": \"\",\n        \"description\": \"\"\n      }\n    },\n    {\n      \"column\": \"Volume Produksi\",\n      \"properties\": {\n        \"dtype\": \"number\",\n        \"std\": 7430182,\n        \"min\": 3,\n        \"max\": 113100490,\n        \"num_unique_values\": 2159,\n        \"samples\": [\n          280959,\n          6059946,\n          9967\n        ],\n        \"semantic_type\": \"\",\n        \"description\": \"\"\n      }\n    },\n    {\n      \"column\": \"Nilai Produksi\",\n      \"properties\": {\n        \"dtype\": \"number\",\n        \"std\": 143485760890.31894,\n        \"min\": 75000.0,\n        \"max\": 2490000000000.0,\n        \"num_unique_values\": 2085,\n        \"samples\": [\n          2789994995.0,\n          13726608000.0,\n          1337175000.0\n        ],\n        \"semantic_type\": \"\",\n        \"description\": \"\"\n      }\n    }\n  ]\n}"
            }
          },
          "metadata": {},
          "execution_count": 101
        }
      ]
    },
    {
      "cell_type": "markdown",
      "source": [
        "3. Memisahkan Fitur dan Target"
      ],
      "metadata": {
        "id": "JMKTFxJewx8E"
      }
    },
    {
      "cell_type": "code",
      "source": [
        "\n",
        "from sklearn.preprocessing import OneHotEncoder\n",
        "from sklearn.compose import ColumnTransformer # Import ColumnTransformer\n",
        "\n",
        "# Membaca file CSV ke dalam DataFrame\n",
        "Harga_Lele = pd.read_csv('/content/Harga_Lele.csv', sep=';')\n",
        "\n",
        "# Assign Harga_Lele to data\n",
        "data = Harga_Lele\n",
        "\n",
        "# cetak nama\n",
        "print(data.columns)\n",
        "\n",
        "# Fitur (tahun)\n",
        "X = data[['Tahun', 'Provinsi']]\n",
        "\n",
        "# Target: volume_produksi dan nilai_produksi\n",
        "y_volume = data['Volume Produksi']\n",
        "y_nilai = data['Nilai Produksi']\n",
        "\n",
        "# OneHotEncoding untuk kolom 'daerah'\n",
        "preprocessor = ColumnTransformer(transformers=[('Provinsi', OneHotEncoder(), ['Provinsi'])], remainder='passthrough')\n",
        "\n",
        "# Transformasi X\n",
        "X_transformed = preprocessor.fit_transform(X)\n",
        "\n"
      ],
      "metadata": {
        "colab": {
          "base_uri": "https://localhost:8080/"
        },
        "id": "wAzhBJFnfTSb",
        "outputId": "36b927e4-e148-439b-9b32-b705b253909e"
      },
      "execution_count": 102,
      "outputs": [
        {
          "output_type": "stream",
          "name": "stdout",
          "text": [
            "Index(['Provinsi', 'Kabupaten/Kota', 'Tahun', 'Volume Produksi',\n",
            "       'Nilai Produksi'],\n",
            "      dtype='object')\n"
          ]
        }
      ]
    },
    {
      "cell_type": "code",
      "source": [
        "print(X.head()) # fitur\n",
        "print(y.head()) # target\n",
        "print(y.head()) # target"
      ],
      "metadata": {
        "colab": {
          "base_uri": "https://localhost:8080/"
        },
        "id": "ojmEl_Vmn-WA",
        "outputId": "83ffcbde-f9c9-4967-b1d1-452fe169828d"
      },
      "execution_count": 103,
      "outputs": [
        {
          "output_type": "stream",
          "name": "stdout",
          "text": [
            "   Tahun Provinsi\n",
            "0   2019     ACEH\n",
            "1   2019     ACEH\n",
            "2   2019     ACEH\n",
            "3   2019     ACEH\n",
            "4   2019     ACEH\n",
            "0     247150\n",
            "1      50900\n",
            "2    1250560\n",
            "3     900000\n",
            "4      39367\n",
            "Name: Volume Produksi, dtype: int64\n",
            "0     247150\n",
            "1      50900\n",
            "2    1250560\n",
            "3     900000\n",
            "4      39367\n",
            "Name: Volume Produksi, dtype: int64\n"
          ]
        }
      ]
    },
    {
      "cell_type": "markdown",
      "source": [
        "3 split dataset into training"
      ],
      "metadata": {
        "id": "2t-r-4-_ohMK"
      }
    },
    {
      "cell_type": "code",
      "source": [
        "# Membagi dataset menjadi 80% data latih dan 20% data uji\n",
        "#from sklearn.model_selection import train_test_split # import the necessary module\n",
        "#from sklearn.linear_model import LinearRegression\n",
        "\n",
        "\n",
        "# Membagi data untuk model prediksi volume_produksi\n",
        "#X_train, X_test, y_volume_train, y_volume_test = train_test_split(X_transformed, y_volume, test_size=0.2, random_state=42)\n",
        "\n",
        "\n",
        "# Membagi data untuk model prediksi nilai_produksi\n",
        "#_, _, y_nilai_train, y_nilai_test = train_test_split(X_transformed, y_nilai, test_size=0.2, random_state=42)\n"
      ],
      "metadata": {
        "id": "jRS_OOL6ofta"
      },
      "execution_count": 104,
      "outputs": []
    },
    {
      "cell_type": "code",
      "source": [
        "import pandas as pd\n",
        "from sklearn.model_selection import train_test_split\n",
        "from scipy.sparse import csr_matrix, hstack # Import hstack\n",
        "\n",
        "# Assuming 'df' is your DataFrame and 'volume_produksi' is your target variable\n",
        "# Assuming features for your model are in columns other than 'volume_produksi' and 'Tahun'\n",
        "# Replace ... with the actual column names you want to include as features\n",
        "features = df[['Tahun', 'Volume Produksi', 'Nilai Produksi']]  # Include desired columns\n",
        "\n",
        "# Extract the target variable\n",
        "target = df['Volume Produksi'] # Assuming 'Volume Produksi' is the target\n",
        "\n",
        "# Split data into training and testing sets (e.g., 80% train, 20% test)\n",
        "X_train, X_test, y_train, y_test = train_test_split(features, target, test_size=0.2, random_state=42)\n",
        "\n",
        "# If you need to convert X_train and X_test into sparse matrices:\n",
        "X_train_sparse = csr_matrix(X_train)\n",
        "X_test_sparse = csr_matrix(X_test)\n",
        "\n",
        "# If you have 'Tahun' column and want to include it in features:\n",
        "X_train_with_tahun = hstack([X_train_sparse, csr_matrix(X_train[['Tahun']])])\n",
        "X_test_with_tahun = hstack([X_test_sparse, csr_matrix(X_test[['Tahun']])])\n",
        "\n",
        "# Now you have:\n",
        "# X_train_sparse, X_test_sparse: Sparse matrices of features\n",
        "# y_train, y_test: Target variable for training and testing\n",
        "# X_train_with_tahun, X_test_with_tahun: Includes 'Tahun' as a feature in sparse matrix format"
      ],
      "metadata": {
        "id": "5MTulTU2Y1lX"
      },
      "execution_count": 155,
      "outputs": []
    },
    {
      "cell_type": "markdown",
      "source": [
        "4 create a Linear Regression model and train"
      ],
      "metadata": {
        "id": "8WcAkJ8qptNO"
      }
    },
    {
      "cell_type": "code",
      "source": [
        "\n",
        "\n",
        "# Membagi data untuk model prediksi nilai_produksi\n",
        "_, _, y_nilai_train, y_nilai_test = train_test_split(\n",
        "    X_transformed, y_nilai, test_size=0.2, random_state=42\n",
        ")\n",
        "\n",
        "lin_reg = LinearRegression()\n",
        "lin_reg.fit(X_train, y_volume_train)\n",
        "\n",
        "# Predict on the training and testing data\n",
        "y_pred_train = lin_reg.predict(X_train)\n",
        "y_pred_test = lin_reg.predict(X_test)\n",
        "\n",
        "# Now you can plot the data\n",
        "plt.figure(figsize=(10, 6))\n",
        "plt.subplot(1, 2, 1)\n",
        "\n",
        "# Changed y_test and y_pred_lin to y_volume_test and y_pred_test\n",
        "plt.scatter(y_volume_test, y_pred_test, alpha=0.7)\n",
        "\n",
        "\n",
        "plt.title('Linear Regression - Harga Lele')\n",
        "plt.plot([0, 5], [0, 5], '--', color='red')\n",
        "plt.xlabel('Tahun')  # Adjust if using different x-axis\n",
        "plt.ylabel('Volume Produksi')\n",
        "plt.legend()\n",
        "plt.grid(True)\n",
        "plt.show()"
      ],
      "metadata": {
        "id": "tZredf3mVwNV",
        "outputId": "929915f9-4a33-434c-f64a-b75a14932eea",
        "colab": {
          "base_uri": "https://localhost:8080/",
          "height": 601
        }
      },
      "execution_count": 156,
      "outputs": [
        {
          "output_type": "stream",
          "name": "stderr",
          "text": [
            "WARNING:matplotlib.legend:No artists with labels found to put in legend.  Note that artists whose label start with an underscore are ignored when legend() is called with no argument.\n"
          ]
        },
        {
          "output_type": "display_data",
          "data": {
            "text/plain": [
              "<Figure size 1000x600 with 1 Axes>"
            ],
            "image/png": "[encoded data removed]"
          },
          "metadata": {}
        }
      ]
    },
    {
      "cell_type": "code",
      "source": [
        "elastic_net_model = ElasticNet(alpha=1.0, l1_ratio=0.5)\n",
        "elastic_net_model.fit(X_train, y_train) # melatih model dengan data latih\n",
        "y_pred_en = elastic_net_model.predict(X_test) # Melakukan prediksi pada data uji"
      ],
      "metadata": {
        "id": "0RdNxvsNyN7o"
      },
      "execution_count": 108,
      "outputs": []
    },
    {
      "cell_type": "markdown",
      "source": [
        "Evaluasi the models"
      ],
      "metadata": {
        "id": "ojmQ804QDTAb"
      }
    },
    {
      "cell_type": "code",
      "source": [
        "# evaluasi\n",
        "def evaluate_model(y_test, y_pred, model_name):\n",
        "    mse = mean_squared_error(y_test, y_pred)\n",
        "    r2 = r2_score(y_test, y_pred)\n",
        "    print(f'{model_name} \\n - Mean Squared Error: {mse}, \\n - R^2 Score: {r2}')\n",
        "\n",
        "#evaluasi semua model\n",
        "print(\"Hasil Evaluasi Keempat model : \\n\")\n",
        "evaluate_model(y_volume_test, y_pred_lin, \"Linear Regrression\")\n",
        "evaluate_model(y_volume_test, y_pred_ridge, \"Ridge Regression\")\n",
        "evaluate_model(y_volume_test, y_pred_lasso, \"Lasso Regression\")\n",
        "evaluate_model(y_volume_test, y_pred_en, \"Elastic Net Regression\")"
      ],
      "metadata": {
        "colab": {
          "base_uri": "https://localhost:8080/"
        },
        "id": "sUWSoP0uDTYN",
        "outputId": "fcbf38b9-cf96-4c24-ac5e-3e3f3276e26d"
      },
      "execution_count": 114,
      "outputs": [
        {
          "output_type": "stream",
          "name": "stdout",
          "text": [
            "Hasil Evaluasi Keempat model : \n",
            "\n",
            "Linear Regrression \n",
            " - Mean Squared Error: 63436922764785.06, \n",
            " - R^2 Score: 0.1089346167021874\n",
            "Ridge Regression \n",
            " - Mean Squared Error: 63406219225968.0, \n",
            " - R^2 Score: 0.10936589330565805\n",
            "Lasso Regression \n",
            " - Mean Squared Error: 63436891014202.85, \n",
            " - R^2 Score: 0.10893506268606357\n",
            "Elastic Net Regression \n",
            " - Mean Squared Error: 70013149479072.17, \n",
            " - R^2 Score: 0.016561788348784634\n"
          ]
        }
      ]
    },
    {
      "cell_type": "markdown",
      "source": [
        "Visualisasi semua Regresi"
      ],
      "metadata": {
        "id": "jC73hi7eOEMY"
      }
    },
    {
      "cell_type": "code",
      "source": [
        "import matplotlib.pyplot as plt\n",
        "import numpy as np\n",
        "\n",
        "# Visualization\n",
        "plt.figure(figsize=(12, 12))\n",
        "plt.subplot(3, 1, 1)\n",
        "\n",
        "# Ensure y_volume_test and y_pred_lin have the same length\n",
        "# by truncating the longer array to match the shorter one\n",
        "min_len = min(len(y_volume_test), len(y_pred_lin))\n",
        "y_volume_test = y_volume_test[:min_len]\n",
        "y_pred_lin = y_pred_lin[:min_len]\n",
        "\n",
        "plt.scatter(y_volume_test, y_pred_lin, alpha=0.7)  # Corrected 'aplha' to 'alpha'\n",
        "plt.xlabel('Actual Volume')\n",
        "plt.ylabel('Predicted Volume')\n",
        "plt.title('Volume Produksi Prediction')\n",
        "plt.plot([0, 5], [0, 5], '--', color='red')\n",
        "\n",
        "# Use plt.xlim and plt.ylim for setting axis limits\n",
        "plt.xlim(0, 5)  # Corrected 'xLim' to 'xlim'\n",
        "plt.ylim(0, 5)  # Corrected 'ylim' to 'ylim'\n",
        "\n",
        "plt.show() # display the plot"
      ],
      "metadata": {
        "id": "E7rS07JROImC",
        "outputId": "71fb3593-e280-4db0-9679-bd9eb812fca4",
        "colab": {
          "base_uri": "https://localhost:8080/",
          "height": 394
        }
      },
      "execution_count": 132,
      "outputs": [
        {
          "output_type": "display_data",
          "data": {
            "text/plain": [
              "<Figure size 1200x1200 with 1 Axes>"
            ],
            "image/png": "[encoded data removed]"
          },
          "metadata": {}
        }
      ]
    },
    {
      "cell_type": "markdown",
      "source": [
        "ARIMA"
      ],
      "metadata": {
        "id": "wDfNLn4OOMus"
      }
    },
    {
      "cell_type": "code",
      "source": [
        "# Prediksi volume_produksi\n",
        "y_volume_pred = model_volume.predict(X_test)\n",
        "print(\"MSE untuk volume_produksi:\", mean_squared_error(y_volume_test, y_volume_pred))\n",
        "print(\"R^2 untuk volume_produksi:\", r2_score(y_volume_test, y_volume_pred))\n",
        "\n",
        "# Prediksi nilai_produksi\n",
        "y_nilai_pred = model_nilai.predict(X_test)\n",
        "print(\"MSE untuk nilai_produksi:\", mean_squared_error(y_nilai_test, y_nilai_pred))\n",
        "print(\"R^2 untuk nilai_produksi:\", r2_score(y_nilai_test, y_nilai_pred))\n"
      ],
      "metadata": {
        "id": "BJ6qZd0lqrYf",
        "outputId": "eeaed469-9f7d-4ca6-e1bd-9e592cedc736",
        "colab": {
          "base_uri": "https://localhost:8080/"
        }
      },
      "execution_count": 56,
      "outputs": [
        {
          "output_type": "stream",
          "name": "stdout",
          "text": [
            "MSE untuk volume_produksi: 63436922764785.06\n",
            "R^2 untuk volume_produksi: 0.1089346167021874\n",
            "MSE untuk nilai_produksi: 3.156339222137906e+22\n",
            "R^2 untuk nilai_produksi: 0.0840942342191886\n"
          ]
        }
      ]
    },
    {
      "cell_type": "markdown",
      "source": [
        "LSTM"
      ],
      "metadata": {
        "id": "lTVyDX3E39Kk"
      }
    },
    {
      "cell_type": "code",
      "source": [
        "scaler = MinMaxScaler(feature_range=(0, 1))\n",
        "y_volume_scaled = scaler.fit_transform(y_volume.values.reshape(-1, 1))"
      ],
      "metadata": {
        "id": "DTuoxM1TK1Uw"
      },
      "execution_count": 118,
      "outputs": []
    },
    {
      "cell_type": "code",
      "source": [
        "def create_dataset(dataset, look_back=1):\n",
        "    X, Y = [], []\n",
        "    for i in range(len(dataset)-look_back-1):\n",
        "        a = dataset[i:(i+look_back), 0]\n",
        "        X.append(a)\n",
        "        Y.append(dataset[i + look_back, 0])\n",
        "    return np.array(X), np.array(Y)\n",
        "\n",
        "look_back = 10 # Jumlah langkah waktu sebelumnya yang akan digunakan\n",
        "X_lstm, y_lstm = create_dataset(y_volume_scaled, look_back)\n",
        "\n",
        "    # Membagi data menjadi data latih dan data uji\n",
        "X_train_lstm, X_test_lstm, y_train_lstm, y_test_lstm = train_test_split(X_lstm, y_lstm, test_size=0.2, random_state=42)"
      ],
      "metadata": {
        "id": "yRc5opdBK4sv"
      },
      "execution_count": 121,
      "outputs": []
    },
    {
      "cell_type": "code",
      "source": [
        "# Fit the ARIMA model\n",
        "model_volume = ARIMA(y_volume, order=(1, 1, 1))  # (p, d, q) are ARIMA parameters\n",
        "results_volume = model_volume.fit()\n",
        "\n",
        "# Print model summary\n",
        "print(results_volume.summary())\n",
        "\n",
        "# Make predictions\n",
        "y_volume_pred = results_volume.predict(start=len(y_volume), end=len(y_volume) + len(X_test_lstm) -1 )\n",
        "\n",
        "# Assuming y_volume_test is the actual values for the test set\n",
        "# Invert scaling to get actual values\n",
        "y_volume_pred = scaler.inverse_transform(y_volume_pred.values.reshape(-1, 1))\n",
        "y_volume_test = scaler.inverse_transform(y_test_lstm.reshape(-1,1))"
      ],
      "metadata": {
        "id": "cLqKnKlBL7oW",
        "outputId": "475e0ec7-c6fc-49e5-b3d0-305bd74063bf",
        "colab": {
          "base_uri": "https://localhost:8080/"
        }
      },
      "execution_count": 125,
      "outputs": [
        {
          "output_type": "stream",
          "name": "stdout",
          "text": [
            "                               SARIMAX Results                                \n",
            "==============================================================================\n",
            "Dep. Variable:        Volume Produksi   No. Observations:                 2222\n",
            "Model:                 ARIMA(1, 1, 1)   Log Likelihood              -38272.440\n",
            "Date:                Thu, 24 Oct 2024   AIC                          76550.881\n",
            "Time:                        15:47:12   BIC                          76567.998\n",
            "Sample:                             0   HQIC                         76557.133\n",
            "                               - 2222                                         \n",
            "Covariance Type:                  opg                                         \n",
            "==============================================================================\n",
            "                 coef    std err          z      P>|z|      [0.025      0.975]\n",
            "------------------------------------------------------------------------------\n",
            "ar.L1          0.0211      0.024      0.895      0.371      -0.025       0.067\n",
            "ma.L1         -0.9590      0.004   -254.027      0.000      -0.966      -0.952\n",
            "sigma2      6.244e+13   3.26e-17   1.91e+30      0.000    6.24e+13    6.24e+13\n",
            "===================================================================================\n",
            "Ljung-Box (L1) (Q):                   0.00   Jarque-Bera (JB):            807191.54\n",
            "Prob(Q):                              0.98   Prob(JB):                         0.00\n",
            "Heteroskedasticity (H):               0.82   Skew:                             8.31\n",
            "Prob(H) (two-sided):                  0.01   Kurtosis:                        94.90\n",
            "===================================================================================\n",
            "\n",
            "Warnings:\n",
            "[1] Covariance matrix calculated using the outer product of gradients (complex-step).\n",
            "[2] Covariance matrix is singular or near-singular, with condition number    inf. Standard errors may be unstable.\n"
          ]
        }
      ]
    },
    {
      "cell_type": "markdown",
      "source": [
        "Evaluasi Model"
      ],
      "metadata": {
        "id": "n_cubzHyNi4w"
      }
    },
    {
      "cell_type": "code",
      "source": [
        "# Evaluate the model\n",
        "print(\"MSE for volume_produksi:\", mean_squared_error(y_volume_test, y_volume_pred))\n",
        "print(\"R^2 for volume_produksi:\", r2_score(y_volume_test, y_volume_pred))"
      ],
      "metadata": {
        "id": "uFMpz-oeNfUG",
        "outputId": "9e6db0ee-bd5d-4973-84b5-ee1ba8d18147",
        "colab": {
          "base_uri": "https://localhost:8080/"
        }
      },
      "execution_count": 126,
      "outputs": [
        {
          "output_type": "stream",
          "name": "stdout",
          "text": [
            "MSE for volume_produksi: 1.3741639559317042e+29\n",
            "R^2 for volume_produksi: -3760296004910178.5\n"
          ]
        }
      ]
    },
    {
      "cell_type": "markdown",
      "source": [
        "Visualisasi Model"
      ],
      "metadata": {
        "id": "kM4YroDNNpkY"
      }
    },
    {
      "cell_type": "code",
      "source": [
        "# Visualization\n",
        "plt.figure(figsize=(12, 6))\n",
        "plt.plot(y_volume_test, label='Actual')\n",
        "plt.plot(y_volume_pred, label='Predicted')\n",
        "plt.title('Volume Produksi Prediction')\n",
        "plt.xlabel('Time')\n",
        "plt.ylabel('Volume')\n",
        "plt.legend()\n",
        "plt.show()\n",
        "\n",
        "plt.plot(df['Tahun'], y_volume, label='Volume Produksi') # Jika memvisualisasikan data asli\n",
        "plt.plot(range(len(y_volume_scaled)), y_volume_scaled, label='Volume Produksi (Scaled)') # Jika memvisualisasikan data scaled\n",
        "plt.legend()\n",
        "plt.show()"
      ],
      "metadata": {
        "id": "tVaT7R24NrsH",
        "outputId": "01b7e570-0698-40cd-c160-0a80e67f2bfb",
        "colab": {
          "base_uri": "https://localhost:8080/",
          "height": 1000
        }
      },
      "execution_count": 135,
      "outputs": [
        {
          "output_type": "display_data",
          "data": {
            "text/plain": [
              "<Figure size 1200x600 with 1 Axes>"
            ],
            "image/png": "[encoded data removed]"
          },
          "metadata": {}
        },
        {
          "output_type": "display_data",
          "data": {
            "text/plain": [
              "<Figure size 640x480 with 1 Axes>"
            ],
            "image/png": "[encoded data removed]"
          },
          "metadata": {}
        }
      ]
    },
    {
      "cell_type": "markdown",
      "source": [
        "**Analisis**\n",
        "\n",
        "\n"
      ],
      "metadata": {
        "id": "8UlnVAwHTP25"
      }
    },
    {
      "cell_type": "markdown",
      "source": [
        "Data set yang digunakan diatas adalah data set adalah data set Volume produksi lele dan nilai produksi lele di semua provinsi di Indonesia dalam tahun 2019 - 2022 yang diambil dari Badan Pusat Statistik\n",
        "\n",
        "Data set yang digunakan masih kurang lengkap sehinnga tidak bisa melakukan prediksi dengan akurat karena kurangnya faktor dalam data set tersebut\n",
        "\n",
        "Model yang digunakan diatas ada Regresi Linear, Regresi Ridge, Regresi Lasso, dan Regresi Elastic Net dan juga menggunakan LSTM. Hasil Prediksi yang di dapat Regresi Linear cocok dengan data set yang digunakan sedangkan untuk model yang lainnya tidak efektif karena data set yang digunakan masih kurang\n",
        "\n",
        "Kekurangan = Beberapa model yang digunakan mengalami Overfitting karena data set terlalu kecil dan tidak memiliki hubungan yang jelas dan linear."
      ],
      "metadata": {
        "id": "4rn-fTJUTiB0"
      }
    }
  ],
  "metadata": {
    "colab": {
      "name": "Selamat Datang di Colaboratory",
      "provenance": [],
      "include_colab_link": true
    },
    "kernelspec": {
      "display_name": "Python 3",
      "name": "python3"
    }
  },
  "nbformat": 4,
  "nbformat_minor": 0
}