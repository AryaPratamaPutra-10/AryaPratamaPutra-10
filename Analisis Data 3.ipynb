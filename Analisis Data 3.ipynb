{
  "cells": [
    {
      "cell_type": "markdown",
      "metadata": {
        "id": "view-in-github",
        "colab_type": "text"
      },
      "source": [
        "<a href=\"https://colab.research.google.com/github/AryaPratamaPutra-10/AryaPratamaPutra-10/blob/main/Analisis%20Data%203.ipynb\" target=\"_parent\"><img src=\"https://colab.research.google.com/assets/colab-badge.svg\" alt=\"Open In Colab\"/></a>"
      ]
    },
    {
      "cell_type": "markdown",
      "source": [
        "# Analisis Volume Ikan Lele\n"
      ],
      "metadata": {
        "id": "vlSK0PGlkzKJ"
      }
    },
    {
      "cell_type": "markdown",
      "source": [
        "1. Import Library yang dipakai"
      ],
      "metadata": {
        "id": "0Ld_-6a_v2r-"
      }
    },
    {
      "cell_type": "code",
      "execution_count": 2,
      "metadata": {
        "id": "zwFnJsE6vjf8",
        "collapsed": true
      },
      "outputs": [],
      "source": [
        "import pandas as pd\n",
        "import numpy as np\n",
        "import matplotlib.pyplot as plt\n",
        "import seaborn as sns\n",
        "\n",
        "from sklearn.model_selection import train_test_split\n",
        "from sklearn.linear_model import LinearRegression, Ridge, Lasso, ElasticNet\n",
        "from sklearn.metrics import mean_squared_error, r2_score\n",
        "\n",
        "from statsmodels.tsa.arima.model import ARIMA\n",
        "\n",
        "from tensorflow.keras.models import Sequential\n",
        "from tensorflow.keras.layers import LSTM, Dense\n",
        "from sklearn.preprocessing import MinMaxScaler"
      ]
    },
    {
      "cell_type": "markdown",
      "source": [
        "2. Import File Data Set"
      ],
      "metadata": {
        "id": "027Qf5flv7cz"
      }
    },
    {
      "cell_type": "code",
      "source": [
        "from google.colab import files\n",
        "upload = files.upload()"
      ],
      "metadata": {
        "id": "pVo2XC7GmAV3",
        "outputId": "9ffb96a2-3fbc-49f8-d770-f396d44f74d7",
        "colab": {
          "base_uri": "https://localhost:8080/",
          "height": 73
        }
      },
      "execution_count": 4,
      "outputs": [
        {
          "output_type": "display_data",
          "data": {
            "text/plain": [
              "<IPython.core.display.HTML object>"
            ],
            "text/html": [
              "\n",
              "     <input type=\"file\" id=\"files-6717e9f0-502c-4a95-aa9e-872f5b302de0\" name=\"files[]\" multiple disabled\n",
              "        style=\"border:none\" />\n",
              "     <output id=\"result-6717e9f0-502c-4a95-aa9e-872f5b302de0\">\n",
              "      Upload widget is only available when the cell has been executed in the\n",
              "      current browser session. Please rerun this cell to enable.\n",
              "      </output>\n",
              "      <script>// Copyright 2017 Google LLC\n",
              "//\n",
              "// Licensed under the Apache License, Version 2.0 (the \"License\");\n",
              "// you may not use this file except in compliance with the License.\n",
              "// You may obtain a copy of the License at\n",
              "//\n",
              "//      http://www.apache.org/licenses/LICENSE-2.0\n",
              "//\n",
              "// Unless required by applicable law or agreed to in writing, software\n",
              "// distributed under the License is distributed on an \"AS IS\" BASIS,\n",
              "// WITHOUT WARRANTIES OR CONDITIONS OF ANY KIND, either express or implied.\n",
              "// See the License for the specific language governing permissions and\n",
              "// limitations under the License.\n",
              "\n",
              "/**\n",
              " * @fileoverview Helpers for google.colab Python module.\n",
              " */\n",
              "(function(scope) {\n",
              "function span(text, styleAttributes = {}) {\n",
              "  const element = document.createElement('span');\n",
              "  element.textContent = text;\n",
              "  for (const key of Object.keys(styleAttributes)) {\n",
              "    element.style[key] = styleAttributes[key];\n",
              "  }\n",
              "  return element;\n",
              "}\n",
              "\n",
              "// Max number of bytes which will be uploaded at a time.\n",
              "const MAX_PAYLOAD_SIZE = 100 * 1024;\n",
              "\n",
              "function _uploadFiles(inputId, outputId) {\n",
              "  const steps = uploadFilesStep(inputId, outputId);\n",
              "  const outputElement = document.getElementById(outputId);\n",
              "  // Cache steps on the outputElement to make it available for the next call\n",
              "  // to uploadFilesContinue from Python.\n",
              "  outputElement.steps = steps;\n",
              "\n",
              "  return _uploadFilesContinue(outputId);\n",
              "}\n",
              "\n",
              "// This is roughly an async generator (not supported in the browser yet),\n",
              "// where there are multiple asynchronous steps and the Python side is going\n",
              "// to poll for completion of each step.\n",
              "// This uses a Promise to block the python side on completion of each step,\n",
              "// then passes the result of the previous step as the input to the next step.\n",
              "function _uploadFilesContinue(outputId) {\n",
              "  const outputElement = document.getElementById(outputId);\n",
              "  const steps = outputElement.steps;\n",
              "\n",
              "  const next = steps.next(outputElement.lastPromiseValue);\n",
              "  return Promise.resolve(next.value.promise).then((value) => {\n",
              "    // Cache the last promise value to make it available to the next\n",
              "    // step of the generator.\n",
              "    outputElement.lastPromiseValue = value;\n",
              "    return next.value.response;\n",
              "  });\n",
              "}\n",
              "\n",
              "/**\n",
              " * Generator function which is called between each async step of the upload\n",
              " * process.\n",
              " * @param {string} inputId Element ID of the input file picker element.\n",
              " * @param {string} outputId Element ID of the output display.\n",
              " * @return {!Iterable<!Object>} Iterable of next steps.\n",
              " */\n",
              "function* uploadFilesStep(inputId, outputId) {\n",
              "  const inputElement = document.getElementById(inputId);\n",
              "  inputElement.disabled = false;\n",
              "\n",
              "  const outputElement = document.getElementById(outputId);\n",
              "  outputElement.innerHTML = '';\n",
              "\n",
              "  const pickedPromise = new Promise((resolve) => {\n",
              "    inputElement.addEventListener('change', (e) => {\n",
              "      resolve(e.target.files);\n",
              "    });\n",
              "  });\n",
              "\n",
              "  const cancel = document.createElement('button');\n",
              "  inputElement.parentElement.appendChild(cancel);\n",
              "  cancel.textContent = 'Cancel upload';\n",
              "  const cancelPromise = new Promise((resolve) => {\n",
              "    cancel.onclick = () => {\n",
              "      resolve(null);\n",
              "    };\n",
              "  });\n",
              "\n",
              "  // Wait for the user to pick the files.\n",
              "  const files = yield {\n",
              "    promise: Promise.race([pickedPromise, cancelPromise]),\n",
              "    response: {\n",
              "      action: 'starting',\n",
              "    }\n",
              "  };\n",
              "\n",
              "  cancel.remove();\n",
              "\n",
              "  // Disable the input element since further picks are not allowed.\n",
              "  inputElement.disabled = true;\n",
              "\n",
              "  if (!files) {\n",
              "    return {\n",
              "      response: {\n",
              "        action: 'complete',\n",
              "      }\n",
              "    };\n",
              "  }\n",
              "\n",
              "  for (const file of files) {\n",
              "    const li = document.createElement('li');\n",
              "    li.append(span(file.name, {fontWeight: 'bold'}));\n",
              "    li.append(span(\n",
              "        `(${file.type || 'n/a'}) - ${file.size} bytes, ` +\n",
              "        `last modified: ${\n",
              "            file.lastModifiedDate ? file.lastModifiedDate.toLocaleDateString() :\n",
              "                                    'n/a'} - `));\n",
              "    const percent = span('0% done');\n",
              "    li.appendChild(percent);\n",
              "\n",
              "    outputElement.appendChild(li);\n",
              "\n",
              "    const fileDataPromise = new Promise((resolve) => {\n",
              "      const reader = new FileReader();\n",
              "      reader.onload = (e) => {\n",
              "        resolve(e.target.result);\n",
              "      };\n",
              "      reader.readAsArrayBuffer(file);\n",
              "    });\n",
              "    // Wait for the data to be ready.\n",
              "    let fileData = yield {\n",
              "      promise: fileDataPromise,\n",
              "      response: {\n",
              "        action: 'continue',\n",
              "      }\n",
              "    };\n",
              "\n",
              "    // Use a chunked sending to avoid message size limits. See b/62115660.\n",
              "    let position = 0;\n",
              "    do {\n",
              "      const length = Math.min(fileData.byteLength - position, MAX_PAYLOAD_SIZE);\n",
              "      const chunk = new Uint8Array(fileData, position, length);\n",
              "      position += length;\n",
              "\n",
              "      const base64 = btoa(String.fromCharCode.apply(null, chunk));\n",
              "      yield {\n",
              "        response: {\n",
              "          action: 'append',\n",
              "          file: file.name,\n",
              "          data: base64,\n",
              "        },\n",
              "      };\n",
              "\n",
              "      let percentDone = fileData.byteLength === 0 ?\n",
              "          100 :\n",
              "          Math.round((position / fileData.byteLength) * 100);\n",
              "      percent.textContent = `${percentDone}% done`;\n",
              "\n",
              "    } while (position < fileData.byteLength);\n",
              "  }\n",
              "\n",
              "  // All done.\n",
              "  yield {\n",
              "    response: {\n",
              "      action: 'complete',\n",
              "    }\n",
              "  };\n",
              "}\n",
              "\n",
              "scope.google = scope.google || {};\n",
              "scope.google.colab = scope.google.colab || {};\n",
              "scope.google.colab._files = {\n",
              "  _uploadFiles,\n",
              "  _uploadFilesContinue,\n",
              "};\n",
              "})(self);\n",
              "</script> "
            ]
          },
          "metadata": {}
        },
        {
          "output_type": "stream",
          "name": "stdout",
          "text": [
            "Saving Harga_Lele.csv to Harga_Lele.csv\n"
          ]
        }
      ]
    },
    {
      "cell_type": "markdown",
      "source": [
        "Tampilin Data"
      ],
      "metadata": {
        "id": "w0IKY-PfuBSq"
      }
    },
    {
      "cell_type": "code",
      "source": [
        "df = pd.read_csv('/content/Harga_Lele.csv', sep=';')\n",
        "df.head()"
      ],
      "metadata": {
        "collapsed": true,
        "colab": {
          "base_uri": "https://localhost:8080/",
          "height": 206
        },
        "id": "LBH8aCb4ddpd",
        "outputId": "4cd54458-be79-4a08-b478-6e36bc4bb061"
      },
      "execution_count": 5,
      "outputs": [
        {
          "output_type": "execute_result",
          "data": {
            "text/plain": [
              "  Provinsi   Kabupaten/Kota  Tahun  Volume Produksi  Nilai Produksi\n",
              "0     ACEH       ACEH BARAT   2019           247150    3.707250e+09\n",
              "1     ACEH  ACEH BARAT DAYA   2019            50900    1.527000e+09\n",
              "2     ACEH       ACEH BESAR   2019          1250560    1.970712e+10\n",
              "3     ACEH        ACEH JAYA   2019           900000    1.800000e+10\n",
              "4     ACEH     ACEH SELATAN   2019            39367    1.181010e+09"
            ],
            "text/html": [
              "\n",
              "  <div id=\"df-c482d259-3b53-41ff-9dd3-0964dceaeb2f\" class=\"colab-df-container\">\n",
              "    <div>\n",
              "<style scoped>\n",
              "    .dataframe tbody tr th:only-of-type {\n",
              "        vertical-align: middle;\n",
              "    }\n",
              "\n",
              "    .dataframe tbody tr th {\n",
              "        vertical-align: top;\n",
              "    }\n",
              "\n",
              "    .dataframe thead th {\n",
              "        text-align: right;\n",
              "    }\n",
              "</style>\n",
              "<table border=\"1\" class=\"dataframe\">\n",
              "  <thead>\n",
              "    <tr style=\"text-align: right;\">\n",
              "      <th></th>\n",
              "      <th>Provinsi</th>\n",
              "      <th>Kabupaten/Kota</th>\n",
              "      <th>Tahun</th>\n",
              "      <th>Volume Produksi</th>\n",
              "      <th>Nilai Produksi</th>\n",
              "    </tr>\n",
              "  </thead>\n",
              "  <tbody>\n",
              "    <tr>\n",
              "      <th>0</th>\n",
              "      <td>ACEH</td>\n",
              "      <td>ACEH BARAT</td>\n",
              "      <td>2019</td>\n",
              "      <td>247150</td>\n",
              "      <td>3.707250e+09</td>\n",
              "    </tr>\n",
              "    <tr>\n",
              "      <th>1</th>\n",
              "      <td>ACEH</td>\n",
              "      <td>ACEH BARAT DAYA</td>\n",
              "      <td>2019</td>\n",
              "      <td>50900</td>\n",
              "      <td>1.527000e+09</td>\n",
              "    </tr>\n",
              "    <tr>\n",
              "      <th>2</th>\n",
              "      <td>ACEH</td>\n",
              "      <td>ACEH BESAR</td>\n",
              "      <td>2019</td>\n",
              "      <td>1250560</td>\n",
              "      <td>1.970712e+10</td>\n",
              "    </tr>\n",
              "    <tr>\n",
              "      <th>3</th>\n",
              "      <td>ACEH</td>\n",
              "      <td>ACEH JAYA</td>\n",
              "      <td>2019</td>\n",
              "      <td>900000</td>\n",
              "      <td>1.800000e+10</td>\n",
              "    </tr>\n",
              "    <tr>\n",
              "      <th>4</th>\n",
              "      <td>ACEH</td>\n",
              "      <td>ACEH SELATAN</td>\n",
              "      <td>2019</td>\n",
              "      <td>39367</td>\n",
              "      <td>1.181010e+09</td>\n",
              "    </tr>\n",
              "  </tbody>\n",
              "</table>\n",
              "</div>\n",
              "    <div class=\"colab-df-buttons\">\n",
              "\n",
              "  <div class=\"colab-df-container\">\n",
              "    <button class=\"colab-df-convert\" onclick=\"convertToInteractive('df-c482d259-3b53-41ff-9dd3-0964dceaeb2f')\"\n",
              "            title=\"Convert this dataframe to an interactive table.\"\n",
              "            style=\"display:none;\">\n",
              "\n",
              "  <svg xmlns=\"http://www.w3.org/2000/svg\" height=\"24px\" viewBox=\"0 -960 960 960\">\n",
              "    <path d=\"M120-120v-720h720v720H120Zm60-500h600v-160H180v160Zm220 220h160v-160H400v160Zm0 220h160v-160H400v160ZM180-400h160v-160H180v160Zm440 0h160v-160H620v160ZM180-180h160v-160H180v160Zm440 0h160v-160H620v160Z\"/>\n",
              "  </svg>\n",
              "    </button>\n",
              "\n",
              "  <style>\n",
              "    .colab-df-container {\n",
              "      display:flex;\n",
              "      gap: 12px;\n",
              "    }\n",
              "\n",
              "    .colab-df-convert {\n",
              "      background-color: #E8F0FE;\n",
              "      border: none;\n",
              "      border-radius: 50%;\n",
              "      cursor: pointer;\n",
              "      display: none;\n",
              "      fill: #1967D2;\n",
              "      height: 32px;\n",
              "      padding: 0 0 0 0;\n",
              "      width: 32px;\n",
              "    }\n",
              "\n",
              "    .colab-df-convert:hover {\n",
              "      background-color: #E2EBFA;\n",
              "      box-shadow: 0px 1px 2px rgba(60, 64, 67, 0.3), 0px 1px 3px 1px rgba(60, 64, 67, 0.15);\n",
              "      fill: #174EA6;\n",
              "    }\n",
              "\n",
              "    .colab-df-buttons div {\n",
              "      margin-bottom: 4px;\n",
              "    }\n",
              "\n",
              "    [theme=dark] .colab-df-convert {\n",
              "      background-color: #3B4455;\n",
              "      fill: #D2E3FC;\n",
              "    }\n",
              "\n",
              "    [theme=dark] .colab-df-convert:hover {\n",
              "      background-color: #434B5C;\n",
              "      box-shadow: 0px 1px 3px 1px rgba(0, 0, 0, 0.15);\n",
              "      filter: drop-shadow(0px 1px 2px rgba(0, 0, 0, 0.3));\n",
              "      fill: #FFFFFF;\n",
              "    }\n",
              "  </style>\n",
              "\n",
              "    <script>\n",
              "      const buttonEl =\n",
              "        document.querySelector('#df-c482d259-3b53-41ff-9dd3-0964dceaeb2f button.colab-df-convert');\n",
              "      buttonEl.style.display =\n",
              "        google.colab.kernel.accessAllowed ? 'block' : 'none';\n",
              "\n",
              "      async function convertToInteractive(key) {\n",
              "        const element = document.querySelector('#df-c482d259-3b53-41ff-9dd3-0964dceaeb2f');\n",
              "        const dataTable =\n",
              "          await google.colab.kernel.invokeFunction('convertToInteractive',\n",
              "                                                    [key], {});\n",
              "        if (!dataTable) return;\n",
              "\n",
              "        const docLinkHtml = 'Like what you see? Visit the ' +\n",
              "          '<a target=\"_blank\" href=https://colab.research.google.com/notebooks/data_table.ipynb>data table notebook</a>'\n",
              "          + ' to learn more about interactive tables.';\n",
              "        element.innerHTML = '';\n",
              "        dataTable['output_type'] = 'display_data';\n",
              "        await google.colab.output.renderOutput(dataTable, element);\n",
              "        const docLink = document.createElement('div');\n",
              "        docLink.innerHTML = docLinkHtml;\n",
              "        element.appendChild(docLink);\n",
              "      }\n",
              "    </script>\n",
              "  </div>\n",
              "\n",
              "\n",
              "<div id=\"df-3f7d8d00-7b2a-4c62-83a2-8adeb063151a\">\n",
              "  <button class=\"colab-df-quickchart\" onclick=\"quickchart('df-3f7d8d00-7b2a-4c62-83a2-8adeb063151a')\"\n",
              "            title=\"Suggest charts\"\n",
              "            style=\"display:none;\">\n",
              "\n",
              "<svg xmlns=\"http://www.w3.org/2000/svg\" height=\"24px\"viewBox=\"0 0 24 24\"\n",
              "     width=\"24px\">\n",
              "    <g>\n",
              "        <path d=\"M19 3H5c-1.1 0-2 .9-2 2v14c0 1.1.9 2 2 2h14c1.1 0 2-.9 2-2V5c0-1.1-.9-2-2-2zM9 17H7v-7h2v7zm4 0h-2V7h2v10zm4 0h-2v-4h2v4z\"/>\n",
              "    </g>\n",
              "</svg>\n",
              "  </button>\n",
              "\n",
              "<style>\n",
              "  .colab-df-quickchart {\n",
              "      --bg-color: #E8F0FE;\n",
              "      --fill-color: #1967D2;\n",
              "      --hover-bg-color: #E2EBFA;\n",
              "      --hover-fill-color: #174EA6;\n",
              "      --disabled-fill-color: #AAA;\n",
              "      --disabled-bg-color: #DDD;\n",
              "  }\n",
              "\n",
              "  [theme=dark] .colab-df-quickchart {\n",
              "      --bg-color: #3B4455;\n",
              "      --fill-color: #D2E3FC;\n",
              "      --hover-bg-color: #434B5C;\n",
              "      --hover-fill-color: #FFFFFF;\n",
              "      --disabled-bg-color: #3B4455;\n",
              "      --disabled-fill-color: #666;\n",
              "  }\n",
              "\n",
              "  .colab-df-quickchart {\n",
              "    background-color: var(--bg-color);\n",
              "    border: none;\n",
              "    border-radius: 50%;\n",
              "    cursor: pointer;\n",
              "    display: none;\n",
              "    fill: var(--fill-color);\n",
              "    height: 32px;\n",
              "    padding: 0;\n",
              "    width: 32px;\n",
              "  }\n",
              "\n",
              "  .colab-df-quickchart:hover {\n",
              "    background-color: var(--hover-bg-color);\n",
              "    box-shadow: 0 1px 2px rgba(60, 64, 67, 0.3), 0 1px 3px 1px rgba(60, 64, 67, 0.15);\n",
              "    fill: var(--button-hover-fill-color);\n",
              "  }\n",
              "\n",
              "  .colab-df-quickchart-complete:disabled,\n",
              "  .colab-df-quickchart-complete:disabled:hover {\n",
              "    background-color: var(--disabled-bg-color);\n",
              "    fill: var(--disabled-fill-color);\n",
              "    box-shadow: none;\n",
              "  }\n",
              "\n",
              "  .colab-df-spinner {\n",
              "    border: 2px solid var(--fill-color);\n",
              "    border-color: transparent;\n",
              "    border-bottom-color: var(--fill-color);\n",
              "    animation:\n",
              "      spin 1s steps(1) infinite;\n",
              "  }\n",
              "\n",
              "  @keyframes spin {\n",
              "    0% {\n",
              "      border-color: transparent;\n",
              "      border-bottom-color: var(--fill-color);\n",
              "      border-left-color: var(--fill-color);\n",
              "    }\n",
              "    20% {\n",
              "      border-color: transparent;\n",
              "      border-left-color: var(--fill-color);\n",
              "      border-top-color: var(--fill-color);\n",
              "    }\n",
              "    30% {\n",
              "      border-color: transparent;\n",
              "      border-left-color: var(--fill-color);\n",
              "      border-top-color: var(--fill-color);\n",
              "      border-right-color: var(--fill-color);\n",
              "    }\n",
              "    40% {\n",
              "      border-color: transparent;\n",
              "      border-right-color: var(--fill-color);\n",
              "      border-top-color: var(--fill-color);\n",
              "    }\n",
              "    60% {\n",
              "      border-color: transparent;\n",
              "      border-right-color: var(--fill-color);\n",
              "    }\n",
              "    80% {\n",
              "      border-color: transparent;\n",
              "      border-right-color: var(--fill-color);\n",
              "      border-bottom-color: var(--fill-color);\n",
              "    }\n",
              "    90% {\n",
              "      border-color: transparent;\n",
              "      border-bottom-color: var(--fill-color);\n",
              "    }\n",
              "  }\n",
              "</style>\n",
              "\n",
              "  <script>\n",
              "    async function quickchart(key) {\n",
              "      const quickchartButtonEl =\n",
              "        document.querySelector('#' + key + ' button');\n",
              "      quickchartButtonEl.disabled = true;  // To prevent multiple clicks.\n",
              "      quickchartButtonEl.classList.add('colab-df-spinner');\n",
              "      try {\n",
              "        const charts = await google.colab.kernel.invokeFunction(\n",
              "            'suggestCharts', [key], {});\n",
              "      } catch (error) {\n",
              "        console.error('Error during call to suggestCharts:', error);\n",
              "      }\n",
              "      quickchartButtonEl.classList.remove('colab-df-spinner');\n",
              "      quickchartButtonEl.classList.add('colab-df-quickchart-complete');\n",
              "    }\n",
              "    (() => {\n",
              "      let quickchartButtonEl =\n",
              "        document.querySelector('#df-3f7d8d00-7b2a-4c62-83a2-8adeb063151a button');\n",
              "      quickchartButtonEl.style.display =\n",
              "        google.colab.kernel.accessAllowed ? 'block' : 'none';\n",
              "    })();\n",
              "  </script>\n",
              "</div>\n",
              "\n",
              "    </div>\n",
              "  </div>\n"
            ],
            "application/vnd.google.colaboratory.intrinsic+json": {
              "type": "dataframe",
              "variable_name": "df",
              "summary": "{\n  \"name\": \"df\",\n  \"rows\": 2222,\n  \"fields\": [\n    {\n      \"column\": \"Provinsi\",\n      \"properties\": {\n        \"dtype\": \"category\",\n        \"num_unique_values\": 34,\n        \"samples\": [\n          \"KALIMANTAN UTARA\",\n          \"MALUKU\",\n          \"SULAWESI SELATAN\"\n        ],\n        \"semantic_type\": \"\",\n        \"description\": \"\"\n      }\n    },\n    {\n      \"column\": \"Kabupaten/Kota\",\n      \"properties\": {\n        \"dtype\": \"category\",\n        \"num_unique_values\": 463,\n        \"samples\": [\n          \"KOTA TARAKAN\",\n          \"KOTA CILEGON\",\n          \"BENGKULU TENGAH\"\n        ],\n        \"semantic_type\": \"\",\n        \"description\": \"\"\n      }\n    },\n    {\n      \"column\": \"Tahun\",\n      \"properties\": {\n        \"dtype\": \"number\",\n        \"std\": 1,\n        \"min\": 2019,\n        \"max\": 2023,\n        \"num_unique_values\": 5,\n        \"samples\": [\n          2020,\n          2023,\n          2021\n        ],\n        \"semantic_type\": \"\",\n        \"description\": \"\"\n      }\n    },\n    {\n      \"column\": \"Volume Produksi\",\n      \"properties\": {\n        \"dtype\": \"number\",\n        \"std\": 7430182,\n        \"min\": 3,\n        \"max\": 113100490,\n        \"num_unique_values\": 2159,\n        \"samples\": [\n          280959,\n          6059946,\n          9967\n        ],\n        \"semantic_type\": \"\",\n        \"description\": \"\"\n      }\n    },\n    {\n      \"column\": \"Nilai Produksi\",\n      \"properties\": {\n        \"dtype\": \"number\",\n        \"std\": 143485760890.31894,\n        \"min\": 75000.0,\n        \"max\": 2490000000000.0,\n        \"num_unique_values\": 2085,\n        \"samples\": [\n          2789994995.0,\n          13726608000.0,\n          1337175000.0\n        ],\n        \"semantic_type\": \"\",\n        \"description\": \"\"\n      }\n    }\n  ]\n}"
            }
          },
          "metadata": {},
          "execution_count": 5
        }
      ]
    },
    {
      "cell_type": "markdown",
      "source": [
        "3. Memisahkan Fitur dan Target"
      ],
      "metadata": {
        "id": "JMKTFxJewx8E"
      }
    },
    {
      "cell_type": "code",
      "source": [
        "\n",
        "from sklearn.preprocessing import OneHotEncoder\n",
        "from sklearn.compose import ColumnTransformer # Import ColumnTransformer\n",
        "\n",
        "# Membaca file CSV ke dalam DataFrame\n",
        "Harga_Lele = pd.read_csv('/content/Harga_Lele.csv', sep=';')\n",
        "\n",
        "# Assign Harga_Lele to data\n",
        "data = Harga_Lele\n",
        "\n",
        "# cetak nama\n",
        "print(data.columns)\n",
        "\n",
        "# Fitur (tahun)\n",
        "X = data[['Tahun', 'Provinsi']]\n",
        "\n",
        "# Target: volume_produksi dan nilai_produksi\n",
        "y_volume = data['Volume Produksi']\n",
        "y_nilai = data['Nilai Produksi']\n",
        "\n",
        "# OneHotEncoding untuk kolom 'daerah'\n",
        "preprocessor = ColumnTransformer(transformers=[('Provinsi', OneHotEncoder(), ['Provinsi'])], remainder='passthrough')\n",
        "\n",
        "# Transformasi X\n",
        "X_transformed = preprocessor.fit_transform(X)\n",
        "\n"
      ],
      "metadata": {
        "colab": {
          "base_uri": "https://localhost:8080/"
        },
        "id": "wAzhBJFnfTSb",
        "outputId": "73a58bd5-6d16-42ea-c761-e6e7e317ee3f"
      },
      "execution_count": 6,
      "outputs": [
        {
          "output_type": "stream",
          "name": "stdout",
          "text": [
            "Index(['Provinsi', 'Kabupaten/Kota', 'Tahun', 'Volume Produksi',\n",
            "       'Nilai Produksi'],\n",
            "      dtype='object')\n"
          ]
        }
      ]
    },
    {
      "cell_type": "code",
      "source": [
        "print(X.head()) # fitur\n",
        "print(y_volume.head()) # target\n",
        "print(y_nilai.head()) # target"
      ],
      "metadata": {
        "colab": {
          "base_uri": "https://localhost:8080/"
        },
        "id": "ojmEl_Vmn-WA",
        "outputId": "63381be7-993b-48bc-fd22-249f1619b28f"
      },
      "execution_count": 9,
      "outputs": [
        {
          "output_type": "stream",
          "name": "stdout",
          "text": [
            "   Tahun Provinsi\n",
            "0   2019     ACEH\n",
            "1   2019     ACEH\n",
            "2   2019     ACEH\n",
            "3   2019     ACEH\n",
            "4   2019     ACEH\n",
            "0     247150\n",
            "1      50900\n",
            "2    1250560\n",
            "3     900000\n",
            "4      39367\n",
            "Name: Volume Produksi, dtype: int64\n",
            "0    3.707250e+09\n",
            "1    1.527000e+09\n",
            "2    1.970712e+10\n",
            "3    1.800000e+10\n",
            "4    1.181010e+09\n",
            "Name: Nilai Produksi, dtype: float64\n"
          ]
        }
      ]
    },
    {
      "cell_type": "markdown",
      "source": [
        "3 split dataset into training"
      ],
      "metadata": {
        "id": "2t-r-4-_ohMK"
      }
    },
    {
      "cell_type": "code",
      "source": [
        "import pandas as pd\n",
        "from sklearn.model_selection import train_test_split\n",
        "from scipy.sparse import csr_matrix, hstack # Import hstack\n",
        "\n",
        "features = df[['Tahun', 'Volume Produksi', 'Nilai Produksi']]  # Include desired columns\n",
        "\n",
        "# Extract the target variable\n",
        "target = df['Volume Produksi'] # Assuming 'Volume Produksi' is the target\n",
        "\n",
        "# Split data into training and testing sets (e.g., 80% train, 20% test)\n",
        "X_train, X_test, y_train, y_test = train_test_split(features, target, test_size=0.2, random_state=42)\n",
        "\n",
        "# If you need to convert X_train and X_test into sparse matrices:\n",
        "X_train_sparse = csr_matrix(X_train)\n",
        "X_test_sparse = csr_matrix(X_test)\n",
        "\n",
        "# If you have 'Tahun' column and want to include it in features:\n",
        "X_train_with_tahun = hstack([X_train_sparse, csr_matrix(X_train[['Tahun']])])\n",
        "X_test_with_tahun = hstack([X_test_sparse, csr_matrix(X_test[['Tahun']])])\n",
        "\n"
      ],
      "metadata": {
        "id": "5MTulTU2Y1lX"
      },
      "execution_count": 59,
      "outputs": []
    },
    {
      "cell_type": "markdown",
      "source": [
        "4 create a Linear Regression Model, Train Model, dan Evaluasi"
      ],
      "metadata": {
        "id": "8WcAkJ8qptNO"
      }
    },
    {
      "cell_type": "code",
      "source": [
        "\n",
        "features = df[['Tahun', 'Volume Produksi', 'Nilai Produksi']]  # Include desired columns\n",
        "\n",
        "# Extract the target variable\n",
        "target = df['Volume Produksi'] # Assuming 'Volume Produksi' is the target\n",
        "\n",
        "# Split data into training and testing sets (e.g., 80% train, 20% test)\n",
        "X_train, X_test, y_train, y_test = train_test_split(features, target, test_size=0.2, random_state=42)\n",
        "\n",
        "# Instead of splitting y_volume again, use y_train and y_test directly for volume prediction\n",
        "y_volume_train = y_train\n",
        "y_volume_test = y_test\n",
        "\n",
        "# If you need to convert X_train and X_test into sparse matrices:\n",
        "X_train_sparse = csr_matrix(X_train)\n",
        "X_test_sparse = csr_matrix(X_test)\n",
        "\n",
        "# If you have 'Tahun' column and want to include it in features:\n",
        "X_train_with_tahun = hstack([X_train_sparse, csr_matrix(X_train[['Tahun']])])\n",
        "X_test_with_tahun = hstack([X_test_sparse, csr_matrix(X_test[['Tahun']])])\n",
        "\n",
        "# ... (rest of your code remains the same)\n",
        "\n",
        "# Assuming you have a 'Nilai Produksi' column for y_nilai\n",
        "y_nilai = df['Nilai Produksi']  # Assuming 'Nilai Produksi' is the target for nilai prediction\n",
        "_, _, y_nilai_train, y_nilai_test = train_test_split(\n",
        "    features, y_nilai, test_size=0.2, random_state=42\n",
        ")\n",
        "\n",
        "# ... (rest of your code remains the same)\n",
        "\n",
        "lin_reg = LinearRegression()\n",
        "lin_reg.fit(X_train, y_volume_train) # Use y_volume_train which is now aligned with X_train\n",
        "\n",
        "# Predict on the training and testing data\n",
        "y_pred_train = lin_reg.predict(X_train)\n",
        "y_pred_test = lin_reg.predict(X_test)\n",
        "\n",
        "# Now you can plot the data\n",
        "plt.figure(figsize=(10, 6))\n",
        "plt.subplot(1, 2, 1)\n",
        "\n",
        "# Changed y_test and y_pred_lin to y_volume_test and y_pred_test\n",
        "plt.scatter(y_volume_test, y_pred_test, alpha=0.7)\n",
        "\n",
        "plt.title('Linear Regression - Harga Lele')\n",
        "plt.plot([0, 5], [0, 5], '--', color='red')\n",
        "plt.xlabel('Tahun')  # Adjust"
      ],
      "metadata": {
        "id": "tZredf3mVwNV",
        "outputId": "41e43e31-8088-4422-b583-9936c24e06f0",
        "colab": {
          "base_uri": "https://localhost:8080/",
          "height": 581
        }
      },
      "execution_count": 60,
      "outputs": [
        {
          "output_type": "execute_result",
          "data": {
            "text/plain": [
              "Text(0.5, 0, 'Tahun')"
            ]
          },
          "metadata": {},
          "execution_count": 60
        },
        {
          "output_type": "display_data",
          "data": {
            "text/plain": [
              "<Figure size 1000x600 with 1 Axes>"
            ],
            "image/png": "[encoded data removed]"
          },
          "metadata": {}
        }
      ]
    },
    {
      "cell_type": "markdown",
      "source": [
        "LSTM"
      ],
      "metadata": {
        "id": "lTVyDX3E39Kk"
      }
    },
    {
      "cell_type": "markdown",
      "source": [
        "1. Pra pemrosen data\n"
      ],
      "metadata": {
        "id": "n_cubzHyNi4w"
      }
    },
    {
      "cell_type": "code",
      "source": [
        "# 1. Pra-pemrosesan Data\n",
        "features = ['Tahun', 'Volume Produksi', 'Nilai Produksi']\n",
        "data = df[features].values.astype('float32')\n",
        "\n",
        "# Penskalaan data\n",
        "scaler = MinMaxScaler(feature_range=(0, 1))\n",
        "data = scaler.fit_transform(data)\n",
        "\n",
        "# Membagi data menjadi data training dan testing\n",
        "train_size = int(len(data) * 0.8)\n",
        "train_data, test_data = data[0:train_size, :], data[train_size:len(data), :]\n",
        "\n",
        "# Membuat dataset untuk LSTM\n",
        "def create_dataset(dataset, look_back=1):\n",
        "    X, Y = [], []\n",
        "    for i in range(len(dataset) - look_back - 1):\n",
        "        a = dataset[i:(i + look_back), :]  # Ambil semua fitur untuk look_back periode\n",
        "        X.append(a)\n",
        "        Y.append(dataset[i + look_back, 1])  # Target adalah 'Volume Produksi' di periode berikutnya\n",
        "    return np.array(X), np.array(Y)\n",
        "\n",
        "look_back = 3  # Jumlah periode waktu sebelumnya untuk dipertimbangkan (misalnya, 3 tahun)\n",
        "X_train, y_train = create_dataset(train_data, look_back)\n",
        "X_test, y_test = create_dataset(test_data, look_back)\n"
      ],
      "metadata": {
        "id": "VqlhMw9jAZIB"
      },
      "execution_count": 61,
      "outputs": []
    },
    {
      "cell_type": "markdown",
      "source": [
        "2. Membuat Model LSTM"
      ],
      "metadata": {
        "id": "XAOuFM9uAfn0"
      }
    },
    {
      "cell_type": "code",
      "source": [
        "# 2. Membuat Model LSTM\n",
        "model = Sequential()\n",
        "model.add(LSTM(units=50, return_sequences=True, input_shape=(X_train.shape[1], X_train.shape[2])))\n",
        "model.add(LSTM(units=50))\n",
        "model.add(Dense(1))  # Output layer memprediksi volume produksi"
      ],
      "metadata": {
        "colab": {
          "base_uri": "https://localhost:8080/"
        },
        "id": "5qBs-3KMAocE",
        "outputId": "ab305e30-f50a-41b9-b89e-1b559dd08ff5"
      },
      "execution_count": 41,
      "outputs": [
        {
          "output_type": "stream",
          "name": "stderr",
          "text": [
            "/usr/local/lib/python3.10/dist-packages/keras/src/layers/rnn/rnn.py:204: UserWarning: Do not pass an `input_shape`/`input_dim` argument to a layer. When using Sequential models, prefer using an `Input(shape)` object as the first layer in the model instead.\n",
            "  super().__init__(**kwargs)\n"
          ]
        }
      ]
    },
    {
      "cell_type": "markdown",
      "source": [
        "3. Training Model"
      ],
      "metadata": {
        "id": "xujT3rGKAsID"
      }
    },
    {
      "cell_type": "code",
      "source": [
        "# 3. Training Model\n",
        "model.compile(loss='mean_squared_error', optimizer='adam')\n",
        "model.fit(X_train, y_train, epochs=100, batch_size=32, verbose=2)"
      ],
      "metadata": {
        "colab": {
          "base_uri": "https://localhost:8080/"
        },
        "id": "7MqkyVdgA0uK",
        "outputId": "e6d51034-df72-472f-9b4c-9fc742541241"
      },
      "execution_count": 42,
      "outputs": [
        {
          "output_type": "stream",
          "name": "stdout",
          "text": [
            "Epoch 1/100\n",
            "56/56 - 4s - 74ms/step - loss: 0.0041\n",
            "Epoch 2/100\n",
            "56/56 - 1s - 11ms/step - loss: 0.0040\n",
            "Epoch 3/100\n",
            "56/56 - 1s - 10ms/step - loss: 0.0040\n",
            "Epoch 4/100\n",
            "56/56 - 0s - 5ms/step - loss: 0.0040\n",
            "Epoch 5/100\n",
            "56/56 - 1s - 11ms/step - loss: 0.0040\n",
            "Epoch 6/100\n",
            "56/56 - 0s - 5ms/step - loss: 0.0039\n",
            "Epoch 7/100\n",
            "56/56 - 0s - 6ms/step - loss: 0.0040\n",
            "Epoch 8/100\n",
            "56/56 - 1s - 11ms/step - loss: 0.0040\n",
            "Epoch 9/100\n",
            "56/56 - 1s - 12ms/step - loss: 0.0039\n",
            "Epoch 10/100\n",
            "56/56 - 1s - 11ms/step - loss: 0.0040\n",
            "Epoch 11/100\n",
            "56/56 - 1s - 11ms/step - loss: 0.0039\n",
            "Epoch 12/100\n",
            "56/56 - 0s - 6ms/step - loss: 0.0039\n",
            "Epoch 13/100\n",
            "56/56 - 1s - 11ms/step - loss: 0.0039\n",
            "Epoch 14/100\n",
            "56/56 - 0s - 5ms/step - loss: 0.0039\n",
            "Epoch 15/100\n",
            "56/56 - 0s - 5ms/step - loss: 0.0039\n",
            "Epoch 16/100\n",
            "56/56 - 0s - 5ms/step - loss: 0.0039\n",
            "Epoch 17/100\n",
            "56/56 - 0s - 5ms/step - loss: 0.0039\n",
            "Epoch 18/100\n",
            "56/56 - 0s - 6ms/step - loss: 0.0039\n",
            "Epoch 19/100\n",
            "56/56 - 1s - 11ms/step - loss: 0.0038\n",
            "Epoch 20/100\n",
            "56/56 - 1s - 11ms/step - loss: 0.0039\n",
            "Epoch 21/100\n",
            "56/56 - 0s - 5ms/step - loss: 0.0039\n",
            "Epoch 22/100\n",
            "56/56 - 0s - 5ms/step - loss: 0.0038\n",
            "Epoch 23/100\n",
            "56/56 - 0s - 6ms/step - loss: 0.0038\n",
            "Epoch 24/100\n",
            "56/56 - 0s - 5ms/step - loss: 0.0038\n",
            "Epoch 25/100\n",
            "56/56 - 0s - 5ms/step - loss: 0.0038\n",
            "Epoch 26/100\n",
            "56/56 - 0s - 6ms/step - loss: 0.0039\n",
            "Epoch 27/100\n",
            "56/56 - 0s - 6ms/step - loss: 0.0038\n",
            "Epoch 28/100\n",
            "56/56 - 0s - 8ms/step - loss: 0.0038\n",
            "Epoch 29/100\n",
            "56/56 - 1s - 11ms/step - loss: 0.0038\n",
            "Epoch 30/100\n",
            "56/56 - 1s - 11ms/step - loss: 0.0038\n",
            "Epoch 31/100\n",
            "56/56 - 1s - 11ms/step - loss: 0.0038\n",
            "Epoch 32/100\n",
            "56/56 - 0s - 9ms/step - loss: 0.0039\n",
            "Epoch 33/100\n",
            "56/56 - 0s - 9ms/step - loss: 0.0038\n",
            "Epoch 34/100\n",
            "56/56 - 0s - 8ms/step - loss: 0.0038\n",
            "Epoch 35/100\n",
            "56/56 - 0s - 6ms/step - loss: 0.0038\n",
            "Epoch 36/100\n",
            "56/56 - 0s - 5ms/step - loss: 0.0038\n",
            "Epoch 37/100\n",
            "56/56 - 0s - 6ms/step - loss: 0.0038\n",
            "Epoch 38/100\n",
            "56/56 - 0s - 6ms/step - loss: 0.0038\n",
            "Epoch 39/100\n",
            "56/56 - 0s - 5ms/step - loss: 0.0038\n",
            "Epoch 40/100\n",
            "56/56 - 0s - 6ms/step - loss: 0.0038\n",
            "Epoch 41/100\n",
            "56/56 - 1s - 11ms/step - loss: 0.0038\n",
            "Epoch 42/100\n",
            "56/56 - 0s - 6ms/step - loss: 0.0038\n",
            "Epoch 43/100\n",
            "56/56 - 0s - 5ms/step - loss: 0.0038\n",
            "Epoch 44/100\n",
            "56/56 - 0s - 6ms/step - loss: 0.0038\n",
            "Epoch 45/100\n",
            "56/56 - 0s - 5ms/step - loss: 0.0038\n",
            "Epoch 46/100\n",
            "56/56 - 0s - 6ms/step - loss: 0.0038\n",
            "Epoch 47/100\n",
            "56/56 - 0s - 6ms/step - loss: 0.0038\n",
            "Epoch 48/100\n",
            "56/56 - 0s - 5ms/step - loss: 0.0038\n",
            "Epoch 49/100\n",
            "56/56 - 0s - 6ms/step - loss: 0.0038\n",
            "Epoch 50/100\n",
            "56/56 - 0s - 6ms/step - loss: 0.0038\n",
            "Epoch 51/100\n",
            "56/56 - 1s - 12ms/step - loss: 0.0038\n",
            "Epoch 52/100\n",
            "56/56 - 0s - 6ms/step - loss: 0.0038\n",
            "Epoch 53/100\n",
            "56/56 - 0s - 6ms/step - loss: 0.0038\n",
            "Epoch 54/100\n",
            "56/56 - 1s - 11ms/step - loss: 0.0038\n",
            "Epoch 55/100\n",
            "56/56 - 0s - 5ms/step - loss: 0.0038\n",
            "Epoch 56/100\n",
            "56/56 - 0s - 5ms/step - loss: 0.0038\n",
            "Epoch 57/100\n",
            "56/56 - 0s - 5ms/step - loss: 0.0038\n",
            "Epoch 58/100\n",
            "56/56 - 0s - 6ms/step - loss: 0.0038\n",
            "Epoch 59/100\n",
            "56/56 - 0s - 6ms/step - loss: 0.0038\n",
            "Epoch 60/100\n",
            "56/56 - 1s - 11ms/step - loss: 0.0038\n",
            "Epoch 61/100\n",
            "56/56 - 0s - 7ms/step - loss: 0.0038\n",
            "Epoch 62/100\n",
            "56/56 - 0s - 8ms/step - loss: 0.0038\n",
            "Epoch 63/100\n",
            "56/56 - 1s - 11ms/step - loss: 0.0038\n",
            "Epoch 64/100\n",
            "56/56 - 1s - 12ms/step - loss: 0.0038\n",
            "Epoch 65/100\n",
            "56/56 - 1s - 9ms/step - loss: 0.0038\n",
            "Epoch 66/100\n",
            "56/56 - 1s - 9ms/step - loss: 0.0038\n",
            "Epoch 67/100\n",
            "56/56 - 0s - 7ms/step - loss: 0.0038\n",
            "Epoch 68/100\n",
            "56/56 - 0s - 5ms/step - loss: 0.0038\n",
            "Epoch 69/100\n",
            "56/56 - 0s - 5ms/step - loss: 0.0038\n",
            "Epoch 70/100\n",
            "56/56 - 0s - 6ms/step - loss: 0.0038\n",
            "Epoch 71/100\n",
            "56/56 - 1s - 11ms/step - loss: 0.0038\n",
            "Epoch 72/100\n",
            "56/56 - 0s - 6ms/step - loss: 0.0038\n",
            "Epoch 73/100\n",
            "56/56 - 0s - 5ms/step - loss: 0.0038\n",
            "Epoch 74/100\n",
            "56/56 - 0s - 5ms/step - loss: 0.0038\n",
            "Epoch 75/100\n",
            "56/56 - 0s - 6ms/step - loss: 0.0038\n",
            "Epoch 76/100\n",
            "56/56 - 0s - 5ms/step - loss: 0.0038\n",
            "Epoch 77/100\n",
            "56/56 - 0s - 5ms/step - loss: 0.0038\n",
            "Epoch 78/100\n",
            "56/56 - 0s - 6ms/step - loss: 0.0038\n",
            "Epoch 79/100\n",
            "56/56 - 0s - 5ms/step - loss: 0.0038\n",
            "Epoch 80/100\n",
            "56/56 - 0s - 5ms/step - loss: 0.0038\n",
            "Epoch 81/100\n",
            "56/56 - 0s - 6ms/step - loss: 0.0038\n",
            "Epoch 82/100\n",
            "56/56 - 0s - 6ms/step - loss: 0.0038\n",
            "Epoch 83/100\n",
            "56/56 - 0s - 6ms/step - loss: 0.0037\n",
            "Epoch 84/100\n",
            "56/56 - 0s - 5ms/step - loss: 0.0038\n",
            "Epoch 85/100\n",
            "56/56 - 1s - 11ms/step - loss: 0.0037\n",
            "Epoch 86/100\n",
            "56/56 - 0s - 5ms/step - loss: 0.0038\n",
            "Epoch 87/100\n",
            "56/56 - 0s - 6ms/step - loss: 0.0038\n",
            "Epoch 88/100\n",
            "56/56 - 1s - 11ms/step - loss: 0.0038\n",
            "Epoch 89/100\n",
            "56/56 - 0s - 5ms/step - loss: 0.0038\n",
            "Epoch 90/100\n",
            "56/56 - 1s - 11ms/step - loss: 0.0038\n",
            "Epoch 91/100\n",
            "56/56 - 0s - 5ms/step - loss: 0.0038\n",
            "Epoch 92/100\n",
            "56/56 - 0s - 6ms/step - loss: 0.0038\n",
            "Epoch 93/100\n",
            "56/56 - 0s - 5ms/step - loss: 0.0038\n",
            "Epoch 94/100\n",
            "56/56 - 0s - 5ms/step - loss: 0.0037\n",
            "Epoch 95/100\n",
            "56/56 - 0s - 6ms/step - loss: 0.0038\n",
            "Epoch 96/100\n",
            "56/56 - 1s - 13ms/step - loss: 0.0038\n",
            "Epoch 97/100\n",
            "56/56 - 1s - 11ms/step - loss: 0.0038\n",
            "Epoch 98/100\n",
            "56/56 - 1s - 12ms/step - loss: 0.0038\n",
            "Epoch 99/100\n",
            "56/56 - 1s - 11ms/step - loss: 0.0038\n",
            "Epoch 100/100\n",
            "56/56 - 1s - 10ms/step - loss: 0.0038\n"
          ]
        },
        {
          "output_type": "execute_result",
          "data": {
            "text/plain": [
              "<keras.src.callbacks.history.History at 0x7823c4563ac0>"
            ]
          },
          "metadata": {},
          "execution_count": 42
        }
      ]
    },
    {
      "cell_type": "markdown",
      "source": [
        "4. Prediksi dan Evaluasi"
      ],
      "metadata": {
        "id": "9eqYscYhA4YR"
      }
    },
    {
      "cell_type": "code",
      "source": [
        "# 4. Prediksi dan Evaluasi\n",
        "train_predict = model.predict(X_train)\n",
        "test_predict = model.predict(X_test)\n",
        "\n",
        "# Inversi scaling untuk mendapatkan nilai aktual\n",
        "train_predict = scaler.inverse_transform(np.concatenate((X_train[:, -1, [0, 2]], train_predict), axis=1))[:, 1]\n",
        "y_train = scaler.inverse_transform(np.concatenate((X_train[:, -1, [0, 2]], y_train.reshape(-1, 1)), axis=1))[:, 1]\n",
        "test_predict = scaler.inverse_transform(np.concatenate((X_test[:, -1, [0, 2]], test_predict), axis=1))[:, 1]\n",
        "y_test = scaler.inverse_transform(np.concatenate((X_test[:, -1, [0, 2]], y_test.reshape(-1, 1)), axis=1))[:, 1]\n",
        "\n",
        "\n",
        "# Evaluasi model\n",
        "print('Train Score: %.2f MSE (%.2f RMSE)' % (mean_squared_error(y_train, train_predict), np.sqrt(mean_squared_error(y_train, train_predict))))\n",
        "print('Test Score: %.2f MSE (%.2f RMSE)' % (mean_squared_error(y_test, test_predict), np.sqrt(mean_squared_error(y_test, test_predict))))\n",
        "print(\"R^2 for volume_produksi:\", r2_score(y_test, test_predict))\n"
      ],
      "metadata": {
        "colab": {
          "base_uri": "https://localhost:8080/"
        },
        "id": "ki2qclcNA79Q",
        "outputId": "dc454724-935a-49c7-9415-1907b7df69e4"
      },
      "execution_count": 62,
      "outputs": [
        {
          "output_type": "stream",
          "name": "stdout",
          "text": [
            "\u001b[1m56/56\u001b[0m \u001b[32m━━━━━━━━━━━━━━━━━━━━\u001b[0m\u001b[37m\u001b[0m \u001b[1m0s\u001b[0m 3ms/step\n",
            "\u001b[1m14/14\u001b[0m \u001b[32m━━━━━━━━━━━━━━━━━━━━\u001b[0m\u001b[37m\u001b[0m \u001b[1m0s\u001b[0m 5ms/step\n",
            "Train Score: 0.00 MSE (0.00 RMSE)\n",
            "Test Score: 0.00 MSE (0.00 RMSE)\n",
            "R^2 for volume_produksi: 1.0\n"
          ]
        }
      ]
    },
    {
      "cell_type": "markdown",
      "source": [
        "5. Visualisasi Model"
      ],
      "metadata": {
        "id": "3Fb-Cg32BD98"
      }
    },
    {
      "cell_type": "code",
      "source": [
        "# 5. Visualisasi\n",
        "plt.plot(y_test, label='Actual')\n",
        "plt.plot(test_predict, label='Predicted')\n",
        "plt.title('Volume Produksi Prediction')\n",
        "plt.xlabel('Time')\n",
        "plt.ylabel('Volume')\n",
        "plt.legend()\n",
        "plt.show()"
      ],
      "metadata": {
        "colab": {
          "base_uri": "https://localhost:8080/",
          "height": 472
        },
        "id": "ChC0gIjTBIMH",
        "outputId": "42bf8548-8f80-423b-f086-9a6b9732eba6"
      },
      "execution_count": 44,
      "outputs": [
        {
          "output_type": "display_data",
          "data": {
            "text/plain": [
              "<Figure size 640x480 with 1 Axes>"
            ],
            "image/png": "[encoded data removed]"
          },
          "metadata": {}
        }
      ]
    },
    {
      "cell_type": "markdown",
      "source": [
        "**Analisis**\n",
        "\n",
        "\n"
      ],
      "metadata": {
        "id": "8UlnVAwHTP25"
      }
    },
    {
      "cell_type": "markdown",
      "source": [
        "Data set yang digunakan diatas adalah data set adalah data set Volume produksi lele dan nilai produksi lele di semua provinsi di Indonesia dalam tahun 2019 - 2023 yang diambil dari Badan Pusat Statistik\n",
        "\n",
        "\n",
        "Analisis yang digunakan menggunakan Regresi Linear hasil nya berupa MSE 1.5820063466282613e-10 yang berarti mendekati 0 menunjukkan prediksi yang akurat sedangkan R^2 nya 1.0 yang berarti fitur model yaitu (Tahun, volume produksi, dan nilai produksi) cocok dengan variabel target (volume produksi)\n",
        "\n",
        "\n",
        "Model Machine Learning yang saya gunakan adalah menggunakan LSTM.\n",
        "- Pada tahap pemrosesan data saya mendefinisikan tahun, nilai produksi, dan volume produksi sebagai DataFrame dan digunakan sebagai fitur untuk model.\n",
        "- Membagi dataset pelatihan dengan menggunakan 80% dari total data, lalu data dibagi menjadi 2 set yaitu train data untuk melatih model dan test data untuk mengevaluasi model\n",
        "- Mendefinisikan dataset untuk LSTM menggunakan fungsi create_dataset untuk membuat data sesuai format LSTM, membuat urutan input X dan Y sebagai nilai target kemudian menetapkan nilai target ke volume produksi lalu menggunakan parameter look_back = 3 untuk menggunakan data dari 3 tahun sebelumnya untuk memprdiksi volume produksi di tahun seterusnya\n",
        "- Membuat model deep learning dengan menggunakan LSTM untuk memprediksi time series volume produksi ikan lele\n",
        "- Dalam menggunakan LSTM semakin banyak unit data yang digunakan semakin kompleks pola yang dipelajari oleh model sehingga meningkatkan waktu pelatihan dan risiko overfitting\n",
        "- Melatih model dari data historis yang disediakan dari x_train dan y_train dan menggunakan pengoptimal Adam untuk menyesuaikan parameter model untuk meminimalisir kesalahan prediksi\n",
        "- Mengevaluasi model menggunakan metrik MSE, RMSE, dan R^2 untuk melihat hasil evaluasinya guna mengetahui keakuratan model dalam memprediksi volume produksi ikan lele\n",
        "- Memvisualisasikan hasil prediksi volume produksi ikan lele dengan menggunakan grafik garis yang membandingkan data volume produksi ikan lele aktual dengan hasil prediksi model yang bertujuan untuk melihat akurasi model\n",
        "\n",
        "Kesimpulan\n",
        "Dalam menggunakan Model LSTM harus memiliki dataset yang memiliki jumlah data yang cukup, data time series serta data harus diberi label jika menggunakan data yang kurang baik maka beresiko mengalami overfitting sehingga mempengaruhi tingkat akurasi dari model"
      ],
      "metadata": {
        "id": "4rn-fTJUTiB0"
      }
    }
  ],
  "metadata": {
    "colab": {
      "name": "Selamat Datang di Colaboratory",
      "provenance": [],
      "include_colab_link": true
    },
    "kernelspec": {
      "display_name": "Python 3",
      "name": "python3"
    }
  },
  "nbformat": 4,
  "nbformat_minor": 0
}